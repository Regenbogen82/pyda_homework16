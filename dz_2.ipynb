{
 "cells": [
  {
   "cell_type": "markdown",
   "metadata": {
    "colab_type": "text",
    "id": "view-in-github"
   },
   "source": [
    "<a href=\"https://colab.research.google.com/github/yustinaivanova/netology_statistics/blob/master/dz_2.ipynb\" target=\"_parent\"><img src=\"https://colab.research.google.com/assets/colab-badge.svg\" alt=\"Open In Colab\"/></a>"
   ]
  },
  {
   "cell_type": "markdown",
   "metadata": {
    "colab_type": "text",
    "id": "9wqpiQR2AbtX"
   },
   "source": [
    "# Виды распределений"
   ]
  },
  {
   "cell_type": "markdown",
   "metadata": {
    "colab_type": "text",
    "id": "V3N8qycM-xP9"
   },
   "source": [
    "Загрузить таблицу и построить график распределений. Найти нормальное распределение."
   ]
  },
  {
   "cell_type": "code",
   "execution_count": 129,
   "metadata": {
    "colab": {},
    "colab_type": "code",
    "id": "Zo_j9HCKCPgi"
   },
   "outputs": [],
   "source": [
    "import numpy as np\n",
    "from scipy.stats import t\n",
    "from scipy.stats import norm\n",
    "import matplotlib.pyplot as plt\n",
    "from scipy import stats\n",
    "import pandas as pd\n",
    "import io\n",
    "import requests\n",
    "import seaborn as sns\n",
    "\n",
    "%matplotlib inline"
   ]
  },
  {
   "cell_type": "markdown",
   "metadata": {
    "colab_type": "text",
    "id": "LrhPyaIACZsb"
   },
   "source": [
    "Таблица цен на дома в Бостоне"
   ]
  },
  {
   "cell_type": "markdown",
   "metadata": {
    "colab_type": "text",
    "id": "XyNNmtvIDDy3"
   },
   "source": [
    "Основные значения:\n",
    "\n",
    "* CRIM: This is the per capita crime rate by town\n",
    "* ZN: This is the proportion of residential land zoned for lots larger than 25,000 sq.ft.\n",
    "* INDUS: This is the proportion of non-retail business acres per town.\n",
    "* CHAS: This is the Charles River dummy variable (this is equal to 1 if tract bounds river; 0 otherwise)\n",
    "* NOX: This is the nitric oxides concentration (parts per 10 million)\n",
    "* RM: This is the average number of rooms per dwelling\n",
    "* AGE: This is the proportion of owner-occupied units built prior to 1940\n",
    "* DIS: This is the weighted distances to five Boston employment centers\n",
    "* RAD: This is the index of accessibility to radial highways\n",
    "* TAX: This is the full-value property-tax rate per 10,000 dollars\n",
    "* PTRATIO: This is the pupil-teacher ratio by town\n",
    "* B: This is calculated as 1000(Bk — 0.63)², where Bk is the proportion of people of African American descent by town\n",
    "* LSTAT: This is the percentage lower status of the population\n",
    "* MEDV: This is the median value of owner-occupied homes in 1000 dollars"
   ]
  },
  {
   "cell_type": "code",
   "execution_count": 130,
   "metadata": {
    "colab": {
     "base_uri": "https://localhost:8080/",
     "height": 204
    },
    "colab_type": "code",
    "id": "Ona1gs72CZOq",
    "outputId": "455f9f96-3f49-4eb7-c928-fc732141d834"
   },
   "outputs": [
    {
     "data": {
      "text/html": [
       "<div>\n",
       "<style scoped>\n",
       "    .dataframe tbody tr th:only-of-type {\n",
       "        vertical-align: middle;\n",
       "    }\n",
       "\n",
       "    .dataframe tbody tr th {\n",
       "        vertical-align: top;\n",
       "    }\n",
       "\n",
       "    .dataframe thead th {\n",
       "        text-align: right;\n",
       "    }\n",
       "</style>\n",
       "<table border=\"1\" class=\"dataframe\">\n",
       "  <thead>\n",
       "    <tr style=\"text-align: right;\">\n",
       "      <th></th>\n",
       "      <th>CRIM</th>\n",
       "      <th>ZN</th>\n",
       "      <th>INDUS</th>\n",
       "      <th>CHAS</th>\n",
       "      <th>NOX</th>\n",
       "      <th>RM</th>\n",
       "      <th>AGE</th>\n",
       "      <th>DIS</th>\n",
       "      <th>RAD</th>\n",
       "      <th>TAX</th>\n",
       "      <th>PTRATIO</th>\n",
       "      <th>B</th>\n",
       "      <th>LSTAT</th>\n",
       "      <th>MEDV</th>\n",
       "    </tr>\n",
       "  </thead>\n",
       "  <tbody>\n",
       "    <tr>\n",
       "      <td>0</td>\n",
       "      <td>0.00632</td>\n",
       "      <td>18.0</td>\n",
       "      <td>2.31</td>\n",
       "      <td>0</td>\n",
       "      <td>0.538</td>\n",
       "      <td>6.575</td>\n",
       "      <td>65.2</td>\n",
       "      <td>4.0900</td>\n",
       "      <td>1</td>\n",
       "      <td>296.0</td>\n",
       "      <td>15.3</td>\n",
       "      <td>396.90</td>\n",
       "      <td>4.98</td>\n",
       "      <td>24.0</td>\n",
       "    </tr>\n",
       "    <tr>\n",
       "      <td>1</td>\n",
       "      <td>0.02731</td>\n",
       "      <td>0.0</td>\n",
       "      <td>7.07</td>\n",
       "      <td>0</td>\n",
       "      <td>0.469</td>\n",
       "      <td>6.421</td>\n",
       "      <td>78.9</td>\n",
       "      <td>4.9671</td>\n",
       "      <td>2</td>\n",
       "      <td>242.0</td>\n",
       "      <td>17.8</td>\n",
       "      <td>396.90</td>\n",
       "      <td>9.14</td>\n",
       "      <td>21.6</td>\n",
       "    </tr>\n",
       "    <tr>\n",
       "      <td>2</td>\n",
       "      <td>0.02729</td>\n",
       "      <td>0.0</td>\n",
       "      <td>7.07</td>\n",
       "      <td>0</td>\n",
       "      <td>0.469</td>\n",
       "      <td>7.185</td>\n",
       "      <td>61.1</td>\n",
       "      <td>4.9671</td>\n",
       "      <td>2</td>\n",
       "      <td>242.0</td>\n",
       "      <td>17.8</td>\n",
       "      <td>392.83</td>\n",
       "      <td>4.03</td>\n",
       "      <td>34.7</td>\n",
       "    </tr>\n",
       "    <tr>\n",
       "      <td>3</td>\n",
       "      <td>0.03237</td>\n",
       "      <td>0.0</td>\n",
       "      <td>2.18</td>\n",
       "      <td>0</td>\n",
       "      <td>0.458</td>\n",
       "      <td>6.998</td>\n",
       "      <td>45.8</td>\n",
       "      <td>6.0622</td>\n",
       "      <td>3</td>\n",
       "      <td>222.0</td>\n",
       "      <td>18.7</td>\n",
       "      <td>394.63</td>\n",
       "      <td>2.94</td>\n",
       "      <td>33.4</td>\n",
       "    </tr>\n",
       "    <tr>\n",
       "      <td>4</td>\n",
       "      <td>0.06905</td>\n",
       "      <td>0.0</td>\n",
       "      <td>2.18</td>\n",
       "      <td>0</td>\n",
       "      <td>0.458</td>\n",
       "      <td>7.147</td>\n",
       "      <td>54.2</td>\n",
       "      <td>6.0622</td>\n",
       "      <td>3</td>\n",
       "      <td>222.0</td>\n",
       "      <td>18.7</td>\n",
       "      <td>396.90</td>\n",
       "      <td>5.33</td>\n",
       "      <td>36.2</td>\n",
       "    </tr>\n",
       "  </tbody>\n",
       "</table>\n",
       "</div>"
      ],
      "text/plain": [
       "      CRIM    ZN  INDUS  CHAS    NOX     RM   AGE     DIS  RAD    TAX  \\\n",
       "0  0.00632  18.0   2.31     0  0.538  6.575  65.2  4.0900    1  296.0   \n",
       "1  0.02731   0.0   7.07     0  0.469  6.421  78.9  4.9671    2  242.0   \n",
       "2  0.02729   0.0   7.07     0  0.469  7.185  61.1  4.9671    2  242.0   \n",
       "3  0.03237   0.0   2.18     0  0.458  6.998  45.8  6.0622    3  222.0   \n",
       "4  0.06905   0.0   2.18     0  0.458  7.147  54.2  6.0622    3  222.0   \n",
       "\n",
       "   PTRATIO       B  LSTAT  MEDV  \n",
       "0     15.3  396.90   4.98  24.0  \n",
       "1     17.8  396.90   9.14  21.6  \n",
       "2     17.8  392.83   4.03  34.7  \n",
       "3     18.7  394.63   2.94  33.4  \n",
       "4     18.7  396.90   5.33  36.2  "
      ]
     },
     "execution_count": 130,
     "metadata": {},
     "output_type": "execute_result"
    }
   ],
   "source": [
    "import ssl\n",
    "# следующая строчка подключает сертификат для защищенного соединения\n",
    "ssl._create_default_https_context = ssl._create_unverified_context\n",
    "url='http://yustiks.ru/dataset/housing.csv'\n",
    "names = ['CRIM', 'ZN', 'INDUS', 'CHAS', 'NOX', 'RM', 'AGE', 'DIS', 'RAD', 'TAX', 'PTRATIO', 'B', 'LSTAT', 'MEDV']\n",
    "data=pd.read_csv(url,  delim_whitespace=True, names=names)\n",
    "data.head()"
   ]
  },
  {
   "cell_type": "code",
   "execution_count": 131,
   "metadata": {},
   "outputs": [
    {
     "name": "stdout",
     "output_type": "stream",
     "text": [
      "<class 'pandas.core.frame.DataFrame'>\n",
      "RangeIndex: 506 entries, 0 to 505\n",
      "Data columns (total 14 columns):\n",
      "CRIM       506 non-null float64\n",
      "ZN         506 non-null float64\n",
      "INDUS      506 non-null float64\n",
      "CHAS       506 non-null int64\n",
      "NOX        506 non-null float64\n",
      "RM         506 non-null float64\n",
      "AGE        506 non-null float64\n",
      "DIS        506 non-null float64\n",
      "RAD        506 non-null int64\n",
      "TAX        506 non-null float64\n",
      "PTRATIO    506 non-null float64\n",
      "B          506 non-null float64\n",
      "LSTAT      506 non-null float64\n",
      "MEDV       506 non-null float64\n",
      "dtypes: float64(12), int64(2)\n",
      "memory usage: 55.5 KB\n"
     ]
    }
   ],
   "source": [
    "data.info()"
   ]
  },
  {
   "cell_type": "markdown",
   "metadata": {},
   "source": [
    "Нарисовать частотные графики для всех значений. Можете ли вы найти следующие распределения в данных графиках?\n",
    "\n",
    "\n",
    "1.   Нормальное\n",
    "2.   Равномерное\n",
    "3.   Биноминальное\n",
    "4.   Бернулли\n",
    "5.   Геометрическое\n",
    "6.   Логнормальное\n",
    "\n"
   ]
  },
  {
   "cell_type": "code",
   "execution_count": 132,
   "metadata": {},
   "outputs": [
    {
     "data": {
      "text/plain": [
       "<function matplotlib.pyplot.show(*args, **kw)>"
      ]
     },
     "execution_count": 132,
     "metadata": {},
     "output_type": "execute_result"
    },
    {
     "data": {
      "image/png": "[encoded data removed]",
      "text/plain": [
       "<Figure size 432x288 with 1 Axes>"
      ]
     },
     "metadata": {
      "needs_background": "light"
     },
     "output_type": "display_data"
    }
   ],
   "source": [
    "# распределение похоже на экспоненциальное\n",
    "plt.hist(data.CRIM, 40)\n",
    "plt.xlabel('Crime level per capita')\n",
    "plt.title('Histogram of CRIM')\n",
    "plt.show"
   ]
  },
  {
   "cell_type": "code",
   "execution_count": 133,
   "metadata": {},
   "outputs": [
    {
     "data": {
      "text/plain": [
       "<function matplotlib.pyplot.show(*args, **kw)>"
      ]
     },
     "execution_count": 133,
     "metadata": {},
     "output_type": "execute_result"
    },
    {
     "data": {
      "image/png": "[encoded data removed]",
      "text/plain": [
       "<Figure size 432x288 with 1 Axes>"
      ]
     },
     "metadata": {
      "needs_background": "light"
     },
     "output_type": "display_data"
    }
   ],
   "source": [
    "# распределение похоже чем-то на экспоненциальное, есть правда значения, которые несколько не укладываются в общую логику\n",
    "plt.hist(data.ZN, 10)\n",
    "plt.xlabel('Share of large lots (> 25k sq.ft.)')\n",
    "plt.title('Histogram of ZN')\n",
    "plt.show"
   ]
  },
  {
   "cell_type": "code",
   "execution_count": 134,
   "metadata": {},
   "outputs": [
    {
     "data": {
      "text/plain": [
       "<function matplotlib.pyplot.show(*args, **kw)>"
      ]
     },
     "execution_count": 134,
     "metadata": {},
     "output_type": "execute_result"
    },
    {
     "data": {
      "image/png": "[encoded data removed]",
      "text/plain": [
       "<Figure size 432x288 with 1 Axes>"
      ]
     },
     "metadata": {
      "needs_background": "light"
     },
     "output_type": "display_data"
    }
   ],
   "source": [
    "# я бы сказала, что это распределение ближе к нормальному. Оно смещено вправо. И есть много пропусков (мало данных).\n",
    "plt.hist(data.INDUS, 30)\n",
    "plt.xlabel('Share of industrial business property')\n",
    "plt.title('Histogram of INDUS')\n",
    "plt.show"
   ]
  },
  {
   "cell_type": "code",
   "execution_count": 135,
   "metadata": {},
   "outputs": [
    {
     "data": {
      "text/plain": [
       "<function matplotlib.pyplot.show(*args, **kw)>"
      ]
     },
     "execution_count": 135,
     "metadata": {},
     "output_type": "execute_result"
    },
    {
     "data": {
      "image/png": "[encoded data removed]",
      "text/plain": [
       "<Figure size 432x288 with 1 Axes>"
      ]
     },
     "metadata": {
      "needs_background": "light"
     },
     "output_type": "display_data"
    }
   ],
   "source": [
    "# Распределение Бернулли.\n",
    "plt.hist(data.CHAS)\n",
    "plt.xlabel('River nearby?')\n",
    "plt.title('Histogram of CHAS')\n",
    "plt.show"
   ]
  },
  {
   "cell_type": "code",
   "execution_count": 136,
   "metadata": {},
   "outputs": [
    {
     "data": {
      "text/plain": [
       "<function matplotlib.pyplot.show(*args, **kw)>"
      ]
     },
     "execution_count": 136,
     "metadata": {},
     "output_type": "execute_result"
    },
    {
     "data": {
      "image/png": "[encoded data removed]",
      "text/plain": [
       "<Figure size 432x288 with 1 Axes>"
      ]
     },
     "metadata": {
      "needs_background": "light"
     },
     "output_type": "display_data"
    }
   ],
   "source": [
    "# я бы сказала, что это распределение ближе к логнормальному. \n",
    "plt.hist(data.NOX, 30)\n",
    "plt.xlabel('Nitric oxides concentration (parts per 10 million)')\n",
    "plt.title('Histogram of NOX')\n",
    "plt.show"
   ]
  },
  {
   "cell_type": "code",
   "execution_count": 137,
   "metadata": {},
   "outputs": [
    {
     "data": {
      "text/plain": [
       "<function matplotlib.pyplot.show(*args, **kw)>"
      ]
     },
     "execution_count": 137,
     "metadata": {},
     "output_type": "execute_result"
    },
    {
     "data": {
      "image/png": "[encoded data removed]",
      "text/plain": [
       "<Figure size 432x288 with 1 Axes>"
      ]
     },
     "metadata": {
      "needs_background": "light"
     },
     "output_type": "display_data"
    }
   ],
   "source": [
    "# нормальное распределение. \n",
    "plt.hist(data.RM, 30)\n",
    "plt.xlabel('Average number of rooms per dwelling')\n",
    "plt.title('Histogram of RM')\n",
    "plt.show"
   ]
  },
  {
   "cell_type": "code",
   "execution_count": 138,
   "metadata": {},
   "outputs": [
    {
     "data": {
      "text/plain": [
       "<function matplotlib.pyplot.show(*args, **kw)>"
      ]
     },
     "execution_count": 138,
     "metadata": {},
     "output_type": "execute_result"
    },
    {
     "data": {
      "image/png": "[encoded data removed]",
      "text/plain": [
       "<Figure size 432x288 with 1 Axes>"
      ]
     },
     "metadata": {
      "needs_background": "light"
     },
     "output_type": "display_data"
    }
   ],
   "source": [
    "# экспоненциальное распределение, развернутое в другую сторону. Так может быть? \n",
    "plt.hist(data.AGE, 30)\n",
    "plt.xlabel('Proportion of owner-occupied units built prior to 1940')\n",
    "plt.title('Histogram of AGE')\n",
    "plt.show"
   ]
  },
  {
   "cell_type": "code",
   "execution_count": 139,
   "metadata": {},
   "outputs": [
    {
     "data": {
      "text/plain": [
       "<function matplotlib.pyplot.show(*args, **kw)>"
      ]
     },
     "execution_count": 139,
     "metadata": {},
     "output_type": "execute_result"
    },
    {
     "data": {
      "image/png": "[encoded data removed]",
      "text/plain": [
       "<Figure size 432x288 with 1 Axes>"
      ]
     },
     "metadata": {
      "needs_background": "light"
     },
     "output_type": "display_data"
    }
   ],
   "source": [
    "# логнормальное распределение \n",
    "plt.hist(data.DIS, 30)\n",
    "plt.xlabel('Weighted distances to five Boston employment centers')\n",
    "plt.title('Histogram of DIS')\n",
    "plt.show"
   ]
  },
  {
   "cell_type": "code",
   "execution_count": 140,
   "metadata": {},
   "outputs": [
    {
     "data": {
      "text/plain": [
       "<function matplotlib.pyplot.show(*args, **kw)>"
      ]
     },
     "execution_count": 140,
     "metadata": {},
     "output_type": "execute_result"
    },
    {
     "data": {
      "image/png": "[encoded data removed]",
      "text/plain": [
       "<Figure size 432x288 with 1 Axes>"
      ]
     },
     "metadata": {
      "needs_background": "light"
     },
     "output_type": "display_data"
    }
   ],
   "source": [
    "# Распределение Бернулли\n",
    "plt.hist(data.RAD)\n",
    "plt.xlabel('Index of accessibility to radial highways')\n",
    "plt.title('Histogram of RAD')\n",
    "plt.show"
   ]
  },
  {
   "cell_type": "code",
   "execution_count": 141,
   "metadata": {},
   "outputs": [
    {
     "data": {
      "text/plain": [
       "<function matplotlib.pyplot.show(*args, **kw)>"
      ]
     },
     "execution_count": 141,
     "metadata": {},
     "output_type": "execute_result"
    },
    {
     "data": {
      "image/png": "[encoded data removed]",
      "text/plain": [
       "<Figure size 432x288 with 1 Axes>"
      ]
     },
     "metadata": {
      "needs_background": "light"
     },
     "output_type": "display_data"
    }
   ],
   "source": [
    "# биноминальное распределение\n",
    "plt.hist(data.TAX)\n",
    "plt.xlabel('Full-value property-tax rate per 10,000 dollars')\n",
    "plt.title('Histogram of TAX')\n",
    "plt.show"
   ]
  },
  {
   "cell_type": "code",
   "execution_count": 142,
   "metadata": {},
   "outputs": [
    {
     "data": {
      "text/plain": [
       "<function matplotlib.pyplot.show(*args, **kw)>"
      ]
     },
     "execution_count": 142,
     "metadata": {},
     "output_type": "execute_result"
    },
    {
     "data": {
      "image/png": "[encoded data removed]",
      "text/plain": [
       "<Figure size 432x288 with 1 Axes>"
      ]
     },
     "metadata": {
      "needs_background": "light"
     },
     "output_type": "display_data"
    }
   ],
   "source": [
    "plt.hist(data.PTRATIO, 40)\n",
    "plt.xlabel('Pupil-teacher ratio by town')\n",
    "plt.title('Histogram of PTRATIO')\n",
    "plt.show"
   ]
  },
  {
   "cell_type": "code",
   "execution_count": 143,
   "metadata": {},
   "outputs": [
    {
     "data": {
      "text/plain": [
       "<function matplotlib.pyplot.show(*args, **kw)>"
      ]
     },
     "execution_count": 143,
     "metadata": {},
     "output_type": "execute_result"
    },
    {
     "data": {
      "image/png": "[encoded data removed]",
      "text/plain": [
       "<Figure size 432x288 with 1 Axes>"
      ]
     },
     "metadata": {
      "needs_background": "light"
     },
     "output_type": "display_data"
    }
   ],
   "source": [
    "# экспоненциальное распределение, развернутое в другую сторону. Так может быть? \n",
    "plt.hist(data.B)\n",
    "plt.title('Histogram of B')\n",
    "plt.show"
   ]
  },
  {
   "cell_type": "code",
   "execution_count": 144,
   "metadata": {},
   "outputs": [
    {
     "data": {
      "text/plain": [
       "<function matplotlib.pyplot.show(*args, **kw)>"
      ]
     },
     "execution_count": 144,
     "metadata": {},
     "output_type": "execute_result"
    },
    {
     "data": {
      "image/png": "[encoded data removed]",
      "text/plain": [
       "<Figure size 432x288 with 1 Axes>"
      ]
     },
     "metadata": {
      "needs_background": "light"
     },
     "output_type": "display_data"
    }
   ],
   "source": [
    "# логнормальное распределение \n",
    "plt.hist(data.LSTAT)\n",
    "plt.xlabel('Percentage lower status of the population')\n",
    "plt.title('Histogram of LSTAT')\n",
    "plt.show"
   ]
  },
  {
   "cell_type": "code",
   "execution_count": 145,
   "metadata": {},
   "outputs": [
    {
     "data": {
      "text/plain": [
       "<function matplotlib.pyplot.show(*args, **kw)>"
      ]
     },
     "execution_count": 145,
     "metadata": {},
     "output_type": "execute_result"
    },
    {
     "data": {
      "image/png": "[encoded data removed]",
      "text/plain": [
       "<Figure size 432x288 with 1 Axes>"
      ]
     },
     "metadata": {
      "needs_background": "light"
     },
     "output_type": "display_data"
    }
   ],
   "source": [
    "# нормальное распределение \n",
    "plt.hist(data.MEDV, 30)\n",
    "plt.xlabel('Median value of owner-occupied homes in 1000 dollars')\n",
    "plt.title('Histogram of MEDV')\n",
    "plt.show"
   ]
  },
  {
   "cell_type": "markdown",
   "metadata": {},
   "source": [
    "Построить матрицу корреляции для данной таблицы и выбрать максимально атрибуты, коррелирующие с ценой дома"
   ]
  },
  {
   "cell_type": "code",
   "execution_count": 146,
   "metadata": {},
   "outputs": [
    {
     "data": {
      "text/html": [
       "<style  type=\"text/css\" >\n",
       "    #T_388344d2_5087_11ea_aa8d_80e6501c9e3erow0_col0 {\n",
       "            background-color:  #00441b;\n",
       "            color:  #f1f1f1;\n",
       "        }    #T_388344d2_5087_11ea_aa8d_80e6501c9e3erow0_col1 {\n",
       "            background-color:  #cfede8;\n",
       "            color:  #000000;\n",
       "        }    #T_388344d2_5087_11ea_aa8d_80e6501c9e3erow0_col2 {\n",
       "            background-color:  #3aa66a;\n",
       "            color:  #000000;\n",
       "        }    #T_388344d2_5087_11ea_aa8d_80e6501c9e3erow0_col3 {\n",
       "            background-color:  #eff9fb;\n",
       "            color:  #000000;\n",
       "        }    #T_388344d2_5087_11ea_aa8d_80e6501c9e3erow0_col4 {\n",
       "            background-color:  #35a063;\n",
       "            color:  #000000;\n",
       "        }    #T_388344d2_5087_11ea_aa8d_80e6501c9e3erow0_col5 {\n",
       "            background-color:  #cdece7;\n",
       "            color:  #000000;\n",
       "        }    #T_388344d2_5087_11ea_aa8d_80e6501c9e3erow0_col6 {\n",
       "            background-color:  #3fac74;\n",
       "            color:  #000000;\n",
       "        }    #T_388344d2_5087_11ea_aa8d_80e6501c9e3erow0_col7 {\n",
       "            background-color:  #d2eeeb;\n",
       "            color:  #000000;\n",
       "        }    #T_388344d2_5087_11ea_aa8d_80e6501c9e3erow0_col8 {\n",
       "            background-color:  #238b45;\n",
       "            color:  #000000;\n",
       "        }    #T_388344d2_5087_11ea_aa8d_80e6501c9e3erow0_col9 {\n",
       "            background-color:  #28914d;\n",
       "            color:  #000000;\n",
       "        }    #T_388344d2_5087_11ea_aa8d_80e6501c9e3erow0_col10 {\n",
       "            background-color:  #5dbd99;\n",
       "            color:  #000000;\n",
       "        }    #T_388344d2_5087_11ea_aa8d_80e6501c9e3erow0_col11 {\n",
       "            background-color:  #f1fafc;\n",
       "            color:  #000000;\n",
       "        }    #T_388344d2_5087_11ea_aa8d_80e6501c9e3erow0_col12 {\n",
       "            background-color:  #329d5e;\n",
       "            color:  #000000;\n",
       "        }    #T_388344d2_5087_11ea_aa8d_80e6501c9e3erow0_col13 {\n",
       "            background-color:  #d6f0ee;\n",
       "            color:  #000000;\n",
       "        }    #T_388344d2_5087_11ea_aa8d_80e6501c9e3erow1_col0 {\n",
       "            background-color:  #e3f4f8;\n",
       "            color:  #000000;\n",
       "        }    #T_388344d2_5087_11ea_aa8d_80e6501c9e3erow1_col1 {\n",
       "            background-color:  #00441b;\n",
       "            color:  #f1f1f1;\n",
       "        }    #T_388344d2_5087_11ea_aa8d_80e6501c9e3erow1_col2 {\n",
       "            background-color:  #e8f6fa;\n",
       "            color:  #000000;\n",
       "        }    #T_388344d2_5087_11ea_aa8d_80e6501c9e3erow1_col3 {\n",
       "            background-color:  #edf8fb;\n",
       "            color:  #000000;\n",
       "        }    #T_388344d2_5087_11ea_aa8d_80e6501c9e3erow1_col4 {\n",
       "            background-color:  #e2f4f7;\n",
       "            color:  #000000;\n",
       "        }    #T_388344d2_5087_11ea_aa8d_80e6501c9e3erow1_col5 {\n",
       "            background-color:  #51b689;\n",
       "            color:  #000000;\n",
       "        }    #T_388344d2_5087_11ea_aa8d_80e6501c9e3erow1_col6 {\n",
       "            background-color:  #e8f6fa;\n",
       "            color:  #000000;\n",
       "        }    #T_388344d2_5087_11ea_aa8d_80e6501c9e3erow1_col7 {\n",
       "            background-color:  #127c39;\n",
       "            color:  #f1f1f1;\n",
       "        }    #T_388344d2_5087_11ea_aa8d_80e6501c9e3erow1_col8 {\n",
       "            background-color:  #e5f5f9;\n",
       "            color:  #000000;\n",
       "        }    #T_388344d2_5087_11ea_aa8d_80e6501c9e3erow1_col9 {\n",
       "            background-color:  #e2f4f7;\n",
       "            color:  #000000;\n",
       "        }    #T_388344d2_5087_11ea_aa8d_80e6501c9e3erow1_col10 {\n",
       "            background-color:  #ecf8fb;\n",
       "            color:  #000000;\n",
       "        }    #T_388344d2_5087_11ea_aa8d_80e6501c9e3erow1_col11 {\n",
       "            background-color:  #84cfb9;\n",
       "            color:  #000000;\n",
       "        }    #T_388344d2_5087_11ea_aa8d_80e6501c9e3erow1_col12 {\n",
       "            background-color:  #d9f1f0;\n",
       "            color:  #000000;\n",
       "        }    #T_388344d2_5087_11ea_aa8d_80e6501c9e3erow1_col13 {\n",
       "            background-color:  #3fac74;\n",
       "            color:  #000000;\n",
       "        }    #T_388344d2_5087_11ea_aa8d_80e6501c9e3erow2_col0 {\n",
       "            background-color:  #51b689;\n",
       "            color:  #000000;\n",
       "        }    #T_388344d2_5087_11ea_aa8d_80e6501c9e3erow2_col1 {\n",
       "            background-color:  #f4fbfc;\n",
       "            color:  #000000;\n",
       "        }    #T_388344d2_5087_11ea_aa8d_80e6501c9e3erow2_col2 {\n",
       "            background-color:  #00441b;\n",
       "            color:  #f1f1f1;\n",
       "        }    #T_388344d2_5087_11ea_aa8d_80e6501c9e3erow2_col3 {\n",
       "            background-color:  #ddf2f3;\n",
       "            color:  #000000;\n",
       "        }    #T_388344d2_5087_11ea_aa8d_80e6501c9e3erow2_col4 {\n",
       "            background-color:  #026f2e;\n",
       "            color:  #f1f1f1;\n",
       "        }    #T_388344d2_5087_11ea_aa8d_80e6501c9e3erow2_col5 {\n",
       "            background-color:  #e3f4f7;\n",
       "            color:  #000000;\n",
       "        }    #T_388344d2_5087_11ea_aa8d_80e6501c9e3erow2_col6 {\n",
       "            background-color:  #16803c;\n",
       "            color:  #f1f1f1;\n",
       "        }    #T_388344d2_5087_11ea_aa8d_80e6501c9e3erow2_col7 {\n",
       "            background-color:  #f2fafc;\n",
       "            color:  #000000;\n",
       "        }    #T_388344d2_5087_11ea_aa8d_80e6501c9e3erow2_col8 {\n",
       "            background-color:  #28914d;\n",
       "            color:  #000000;\n",
       "        }    #T_388344d2_5087_11ea_aa8d_80e6501c9e3erow2_col9 {\n",
       "            background-color:  #107a37;\n",
       "            color:  #f1f1f1;\n",
       "        }    #T_388344d2_5087_11ea_aa8d_80e6501c9e3erow2_col10 {\n",
       "            background-color:  #4bb382;\n",
       "            color:  #000000;\n",
       "        }    #T_388344d2_5087_11ea_aa8d_80e6501c9e3erow2_col11 {\n",
       "            background-color:  #eff9fb;\n",
       "            color:  #000000;\n",
       "        }    #T_388344d2_5087_11ea_aa8d_80e6501c9e3erow2_col12 {\n",
       "            background-color:  #1d8640;\n",
       "            color:  #000000;\n",
       "        }    #T_388344d2_5087_11ea_aa8d_80e6501c9e3erow2_col13 {\n",
       "            background-color:  #e1f4f6;\n",
       "            color:  #000000;\n",
       "        }    #T_388344d2_5087_11ea_aa8d_80e6501c9e3erow3_col0 {\n",
       "            background-color:  #ceede8;\n",
       "            color:  #000000;\n",
       "        }    #T_388344d2_5087_11ea_aa8d_80e6501c9e3erow3_col1 {\n",
       "            background-color:  #aadfd3;\n",
       "            color:  #000000;\n",
       "        }    #T_388344d2_5087_11ea_aa8d_80e6501c9e3erow3_col2 {\n",
       "            background-color:  #7acbb3;\n",
       "            color:  #000000;\n",
       "        }    #T_388344d2_5087_11ea_aa8d_80e6501c9e3erow3_col3 {\n",
       "            background-color:  #00441b;\n",
       "            color:  #f1f1f1;\n",
       "        }    #T_388344d2_5087_11ea_aa8d_80e6501c9e3erow3_col4 {\n",
       "            background-color:  #6cc4a8;\n",
       "            color:  #000000;\n",
       "        }    #T_388344d2_5087_11ea_aa8d_80e6501c9e3erow3_col5 {\n",
       "            background-color:  #80cdb7;\n",
       "            color:  #000000;\n",
       "        }    #T_388344d2_5087_11ea_aa8d_80e6501c9e3erow3_col6 {\n",
       "            background-color:  #6fc6aa;\n",
       "            color:  #000000;\n",
       "        }    #T_388344d2_5087_11ea_aa8d_80e6501c9e3erow3_col7 {\n",
       "            background-color:  #98d8c9;\n",
       "            color:  #000000;\n",
       "        }    #T_388344d2_5087_11ea_aa8d_80e6501c9e3erow3_col8 {\n",
       "            background-color:  #ade0d4;\n",
       "            color:  #000000;\n",
       "        }    #T_388344d2_5087_11ea_aa8d_80e6501c9e3erow3_col9 {\n",
       "            background-color:  #ade0d4;\n",
       "            color:  #000000;\n",
       "        }    #T_388344d2_5087_11ea_aa8d_80e6501c9e3erow3_col10 {\n",
       "            background-color:  #caebe5;\n",
       "            color:  #000000;\n",
       "        }    #T_388344d2_5087_11ea_aa8d_80e6501c9e3erow3_col11 {\n",
       "            background-color:  #a7ddd1;\n",
       "            color:  #000000;\n",
       "        }    #T_388344d2_5087_11ea_aa8d_80e6501c9e3erow3_col12 {\n",
       "            background-color:  #92d5c4;\n",
       "            color:  #000000;\n",
       "        }    #T_388344d2_5087_11ea_aa8d_80e6501c9e3erow3_col13 {\n",
       "            background-color:  #5ebe9b;\n",
       "            color:  #000000;\n",
       "        }    #T_388344d2_5087_11ea_aa8d_80e6501c9e3erow4_col0 {\n",
       "            background-color:  #4db585;\n",
       "            color:  #000000;\n",
       "        }    #T_388344d2_5087_11ea_aa8d_80e6501c9e3erow4_col1 {\n",
       "            background-color:  #f2fafc;\n",
       "            color:  #000000;\n",
       "        }    #T_388344d2_5087_11ea_aa8d_80e6501c9e3erow4_col2 {\n",
       "            background-color:  #03702e;\n",
       "            color:  #f1f1f1;\n",
       "        }    #T_388344d2_5087_11ea_aa8d_80e6501c9e3erow4_col3 {\n",
       "            background-color:  #d8f0ef;\n",
       "            color:  #000000;\n",
       "        }    #T_388344d2_5087_11ea_aa8d_80e6501c9e3erow4_col4 {\n",
       "            background-color:  #00441b;\n",
       "            color:  #f1f1f1;\n",
       "        }    #T_388344d2_5087_11ea_aa8d_80e6501c9e3erow4_col5 {\n",
       "            background-color:  #d8f0ef;\n",
       "            color:  #000000;\n",
       "        }    #T_388344d2_5087_11ea_aa8d_80e6501c9e3erow4_col6 {\n",
       "            background-color:  #087432;\n",
       "            color:  #f1f1f1;\n",
       "        }    #T_388344d2_5087_11ea_aa8d_80e6501c9e3erow4_col7 {\n",
       "            background-color:  #f7fcfd;\n",
       "            color:  #000000;\n",
       "        }    #T_388344d2_5087_11ea_aa8d_80e6501c9e3erow4_col8 {\n",
       "            background-color:  #258d48;\n",
       "            color:  #000000;\n",
       "        }    #T_388344d2_5087_11ea_aa8d_80e6501c9e3erow4_col9 {\n",
       "            background-color:  #19833e;\n",
       "            color:  #f1f1f1;\n",
       "        }    #T_388344d2_5087_11ea_aa8d_80e6501c9e3erow4_col10 {\n",
       "            background-color:  #75c9af;\n",
       "            color:  #000000;\n",
       "        }    #T_388344d2_5087_11ea_aa8d_80e6501c9e3erow4_col11 {\n",
       "            background-color:  #f1fafc;\n",
       "            color:  #000000;\n",
       "        }    #T_388344d2_5087_11ea_aa8d_80e6501c9e3erow4_col12 {\n",
       "            background-color:  #1f8742;\n",
       "            color:  #000000;\n",
       "        }    #T_388344d2_5087_11ea_aa8d_80e6501c9e3erow4_col13 {\n",
       "            background-color:  #dbf1f1;\n",
       "            color:  #000000;\n",
       "        }    #T_388344d2_5087_11ea_aa8d_80e6501c9e3erow5_col0 {\n",
       "            background-color:  #e5f5f9;\n",
       "            color:  #000000;\n",
       "        }    #T_388344d2_5087_11ea_aa8d_80e6501c9e3erow5_col1 {\n",
       "            background-color:  #54b88e;\n",
       "            color:  #000000;\n",
       "        }    #T_388344d2_5087_11ea_aa8d_80e6501c9e3erow5_col2 {\n",
       "            background-color:  #d9f1f0;\n",
       "            color:  #000000;\n",
       "        }    #T_388344d2_5087_11ea_aa8d_80e6501c9e3erow5_col3 {\n",
       "            background-color:  #d8f0ef;\n",
       "            color:  #000000;\n",
       "        }    #T_388344d2_5087_11ea_aa8d_80e6501c9e3erow5_col4 {\n",
       "            background-color:  #c7eae3;\n",
       "            color:  #000000;\n",
       "        }    #T_388344d2_5087_11ea_aa8d_80e6501c9e3erow5_col5 {\n",
       "            background-color:  #00441b;\n",
       "            color:  #f1f1f1;\n",
       "        }    #T_388344d2_5087_11ea_aa8d_80e6501c9e3erow5_col6 {\n",
       "            background-color:  #bce6dd;\n",
       "            color:  #000000;\n",
       "        }    #T_388344d2_5087_11ea_aa8d_80e6501c9e3erow5_col7 {\n",
       "            background-color:  #56ba91;\n",
       "            color:  #000000;\n",
       "        }    #T_388344d2_5087_11ea_aa8d_80e6501c9e3erow5_col8 {\n",
       "            background-color:  #d8f0ef;\n",
       "            color:  #000000;\n",
       "        }    #T_388344d2_5087_11ea_aa8d_80e6501c9e3erow5_col9 {\n",
       "            background-color:  #dff3f4;\n",
       "            color:  #000000;\n",
       "        }    #T_388344d2_5087_11ea_aa8d_80e6501c9e3erow5_col10 {\n",
       "            background-color:  #e9f7fa;\n",
       "            color:  #000000;\n",
       "        }    #T_388344d2_5087_11ea_aa8d_80e6501c9e3erow5_col11 {\n",
       "            background-color:  #90d4c3;\n",
       "            color:  #000000;\n",
       "        }    #T_388344d2_5087_11ea_aa8d_80e6501c9e3erow5_col12 {\n",
       "            background-color:  #edf8fb;\n",
       "            color:  #000000;\n",
       "        }    #T_388344d2_5087_11ea_aa8d_80e6501c9e3erow5_col13 {\n",
       "            background-color:  #0d7836;\n",
       "            color:  #f1f1f1;\n",
       "        }    #T_388344d2_5087_11ea_aa8d_80e6501c9e3erow6_col0 {\n",
       "            background-color:  #5cbd98;\n",
       "            color:  #000000;\n",
       "        }    #T_388344d2_5087_11ea_aa8d_80e6501c9e3erow6_col1 {\n",
       "            background-color:  #f7fcfd;\n",
       "            color:  #000000;\n",
       "        }    #T_388344d2_5087_11ea_aa8d_80e6501c9e3erow6_col2 {\n",
       "            background-color:  #17813d;\n",
       "            color:  #f1f1f1;\n",
       "        }    #T_388344d2_5087_11ea_aa8d_80e6501c9e3erow6_col3 {\n",
       "            background-color:  #d9f1f0;\n",
       "            color:  #000000;\n",
       "        }    #T_388344d2_5087_11ea_aa8d_80e6501c9e3erow6_col4 {\n",
       "            background-color:  #077331;\n",
       "            color:  #f1f1f1;\n",
       "        }    #T_388344d2_5087_11ea_aa8d_80e6501c9e3erow6_col5 {\n",
       "            background-color:  #d0ede9;\n",
       "            color:  #000000;\n",
       "        }    #T_388344d2_5087_11ea_aa8d_80e6501c9e3erow6_col6 {\n",
       "            background-color:  #00441b;\n",
       "            color:  #f1f1f1;\n",
       "        }    #T_388344d2_5087_11ea_aa8d_80e6501c9e3erow6_col7 {\n",
       "            background-color:  #f5fbfd;\n",
       "            color:  #000000;\n",
       "        }    #T_388344d2_5087_11ea_aa8d_80e6501c9e3erow6_col8 {\n",
       "            background-color:  #3fab72;\n",
       "            color:  #000000;\n",
       "        }    #T_388344d2_5087_11ea_aa8d_80e6501c9e3erow6_col9 {\n",
       "            background-color:  #349f61;\n",
       "            color:  #000000;\n",
       "        }    #T_388344d2_5087_11ea_aa8d_80e6501c9e3erow6_col10 {\n",
       "            background-color:  #63c0a0;\n",
       "            color:  #000000;\n",
       "        }    #T_388344d2_5087_11ea_aa8d_80e6501c9e3erow6_col11 {\n",
       "            background-color:  #e6f5f9;\n",
       "            color:  #000000;\n",
       "        }    #T_388344d2_5087_11ea_aa8d_80e6501c9e3erow6_col12 {\n",
       "            background-color:  #1d8640;\n",
       "            color:  #000000;\n",
       "        }    #T_388344d2_5087_11ea_aa8d_80e6501c9e3erow6_col13 {\n",
       "            background-color:  #d4efec;\n",
       "            color:  #000000;\n",
       "        }    #T_388344d2_5087_11ea_aa8d_80e6501c9e3erow7_col0 {\n",
       "            background-color:  #f6fcfd;\n",
       "            color:  #000000;\n",
       "        }    #T_388344d2_5087_11ea_aa8d_80e6501c9e3erow7_col1 {\n",
       "            background-color:  #18823d;\n",
       "            color:  #f1f1f1;\n",
       "        }    #T_388344d2_5087_11ea_aa8d_80e6501c9e3erow7_col2 {\n",
       "            background-color:  #f7fcfd;\n",
       "            color:  #000000;\n",
       "        }    #T_388344d2_5087_11ea_aa8d_80e6501c9e3erow7_col3 {\n",
       "            background-color:  #f4fbfc;\n",
       "            color:  #000000;\n",
       "        }    #T_388344d2_5087_11ea_aa8d_80e6501c9e3erow7_col4 {\n",
       "            background-color:  #f7fcfd;\n",
       "            color:  #000000;\n",
       "        }    #T_388344d2_5087_11ea_aa8d_80e6501c9e3erow7_col5 {\n",
       "            background-color:  #64c1a2;\n",
       "            color:  #000000;\n",
       "        }    #T_388344d2_5087_11ea_aa8d_80e6501c9e3erow7_col6 {\n",
       "            background-color:  #f7fcfd;\n",
       "            color:  #000000;\n",
       "        }    #T_388344d2_5087_11ea_aa8d_80e6501c9e3erow7_col7 {\n",
       "            background-color:  #00441b;\n",
       "            color:  #f1f1f1;\n",
       "        }    #T_388344d2_5087_11ea_aa8d_80e6501c9e3erow7_col8 {\n",
       "            background-color:  #f7fcfd;\n",
       "            color:  #000000;\n",
       "        }    #T_388344d2_5087_11ea_aa8d_80e6501c9e3erow7_col9 {\n",
       "            background-color:  #f7fcfd;\n",
       "            color:  #000000;\n",
       "        }    #T_388344d2_5087_11ea_aa8d_80e6501c9e3erow7_col10 {\n",
       "            background-color:  #daf1f1;\n",
       "            color:  #000000;\n",
       "        }    #T_388344d2_5087_11ea_aa8d_80e6501c9e3erow7_col11 {\n",
       "            background-color:  #63c0a0;\n",
       "            color:  #000000;\n",
       "        }    #T_388344d2_5087_11ea_aa8d_80e6501c9e3erow7_col12 {\n",
       "            background-color:  #e3f4f7;\n",
       "            color:  #000000;\n",
       "        }    #T_388344d2_5087_11ea_aa8d_80e6501c9e3erow7_col13 {\n",
       "            background-color:  #52b78b;\n",
       "            color:  #000000;\n",
       "        }    #T_388344d2_5087_11ea_aa8d_80e6501c9e3erow8_col0 {\n",
       "            background-color:  #28914d;\n",
       "            color:  #000000;\n",
       "        }    #T_388344d2_5087_11ea_aa8d_80e6501c9e3erow8_col1 {\n",
       "            background-color:  #ddf2f3;\n",
       "            color:  #000000;\n",
       "        }    #T_388344d2_5087_11ea_aa8d_80e6501c9e3erow8_col2 {\n",
       "            background-color:  #1f8742;\n",
       "            color:  #000000;\n",
       "        }    #T_388344d2_5087_11ea_aa8d_80e6501c9e3erow8_col3 {\n",
       "            background-color:  #e8f6fa;\n",
       "            color:  #000000;\n",
       "        }    #T_388344d2_5087_11ea_aa8d_80e6501c9e3erow8_col4 {\n",
       "            background-color:  #1a843f;\n",
       "            color:  #000000;\n",
       "        }    #T_388344d2_5087_11ea_aa8d_80e6501c9e3erow8_col5 {\n",
       "            background-color:  #ccece6;\n",
       "            color:  #000000;\n",
       "        }    #T_388344d2_5087_11ea_aa8d_80e6501c9e3erow8_col6 {\n",
       "            background-color:  #319c5c;\n",
       "            color:  #000000;\n",
       "        }    #T_388344d2_5087_11ea_aa8d_80e6501c9e3erow8_col7 {\n",
       "            background-color:  #dff3f5;\n",
       "            color:  #000000;\n",
       "        }    #T_388344d2_5087_11ea_aa8d_80e6501c9e3erow8_col8 {\n",
       "            background-color:  #00441b;\n",
       "            color:  #f1f1f1;\n",
       "        }    #T_388344d2_5087_11ea_aa8d_80e6501c9e3erow8_col9 {\n",
       "            background-color:  #005622;\n",
       "            color:  #f1f1f1;\n",
       "        }    #T_388344d2_5087_11ea_aa8d_80e6501c9e3erow8_col10 {\n",
       "            background-color:  #3ca86d;\n",
       "            color:  #000000;\n",
       "        }    #T_388344d2_5087_11ea_aa8d_80e6501c9e3erow8_col11 {\n",
       "            background-color:  #f7fcfd;\n",
       "            color:  #000000;\n",
       "        }    #T_388344d2_5087_11ea_aa8d_80e6501c9e3erow8_col12 {\n",
       "            background-color:  #2e9756;\n",
       "            color:  #000000;\n",
       "        }    #T_388344d2_5087_11ea_aa8d_80e6501c9e3erow8_col13 {\n",
       "            background-color:  #d5efed;\n",
       "            color:  #000000;\n",
       "        }    #T_388344d2_5087_11ea_aa8d_80e6501c9e3erow9_col0 {\n",
       "            background-color:  #2f9858;\n",
       "            color:  #000000;\n",
       "        }    #T_388344d2_5087_11ea_aa8d_80e6501c9e3erow9_col1 {\n",
       "            background-color:  #def2f4;\n",
       "            color:  #000000;\n",
       "        }    #T_388344d2_5087_11ea_aa8d_80e6501c9e3erow9_col2 {\n",
       "            background-color:  #0a7633;\n",
       "            color:  #f1f1f1;\n",
       "        }    #T_388344d2_5087_11ea_aa8d_80e6501c9e3erow9_col3 {\n",
       "            background-color:  #ecf8fb;\n",
       "            color:  #000000;\n",
       "        }    #T_388344d2_5087_11ea_aa8d_80e6501c9e3erow9_col4 {\n",
       "            background-color:  #127c39;\n",
       "            color:  #f1f1f1;\n",
       "        }    #T_388344d2_5087_11ea_aa8d_80e6501c9e3erow9_col5 {\n",
       "            background-color:  #d6f0ee;\n",
       "            color:  #000000;\n",
       "        }    #T_388344d2_5087_11ea_aa8d_80e6501c9e3erow9_col6 {\n",
       "            background-color:  #2b9452;\n",
       "            color:  #000000;\n",
       "        }    #T_388344d2_5087_11ea_aa8d_80e6501c9e3erow9_col7 {\n",
       "            background-color:  #e4f5f8;\n",
       "            color:  #000000;\n",
       "        }    #T_388344d2_5087_11ea_aa8d_80e6501c9e3erow9_col8 {\n",
       "            background-color:  #005723;\n",
       "            color:  #f1f1f1;\n",
       "        }    #T_388344d2_5087_11ea_aa8d_80e6501c9e3erow9_col9 {\n",
       "            background-color:  #00441b;\n",
       "            color:  #f1f1f1;\n",
       "        }    #T_388344d2_5087_11ea_aa8d_80e6501c9e3erow9_col10 {\n",
       "            background-color:  #3da96f;\n",
       "            color:  #000000;\n",
       "        }    #T_388344d2_5087_11ea_aa8d_80e6501c9e3erow9_col11 {\n",
       "            background-color:  #f7fcfd;\n",
       "            color:  #000000;\n",
       "        }    #T_388344d2_5087_11ea_aa8d_80e6501c9e3erow9_col12 {\n",
       "            background-color:  #268f4a;\n",
       "            color:  #000000;\n",
       "        }    #T_388344d2_5087_11ea_aa8d_80e6501c9e3erow9_col13 {\n",
       "            background-color:  #dff3f5;\n",
       "            color:  #000000;\n",
       "        }    #T_388344d2_5087_11ea_aa8d_80e6501c9e3erow10_col0 {\n",
       "            background-color:  #6ac4a7;\n",
       "            color:  #000000;\n",
       "        }    #T_388344d2_5087_11ea_aa8d_80e6501c9e3erow10_col1 {\n",
       "            background-color:  #e7f6f9;\n",
       "            color:  #000000;\n",
       "        }    #T_388344d2_5087_11ea_aa8d_80e6501c9e3erow10_col2 {\n",
       "            background-color:  #3eaa70;\n",
       "            color:  #000000;\n",
       "        }    #T_388344d2_5087_11ea_aa8d_80e6501c9e3erow10_col3 {\n",
       "            background-color:  #f7fcfd;\n",
       "            color:  #000000;\n",
       "        }    #T_388344d2_5087_11ea_aa8d_80e6501c9e3erow10_col4 {\n",
       "            background-color:  #5abb95;\n",
       "            color:  #000000;\n",
       "        }    #T_388344d2_5087_11ea_aa8d_80e6501c9e3erow10_col5 {\n",
       "            background-color:  #dff3f4;\n",
       "            color:  #000000;\n",
       "        }    #T_388344d2_5087_11ea_aa8d_80e6501c9e3erow10_col6 {\n",
       "            background-color:  #4fb688;\n",
       "            color:  #000000;\n",
       "        }    #T_388344d2_5087_11ea_aa8d_80e6501c9e3erow10_col7 {\n",
       "            background-color:  #b7e4da;\n",
       "            color:  #000000;\n",
       "        }    #T_388344d2_5087_11ea_aa8d_80e6501c9e3erow10_col8 {\n",
       "            background-color:  #3da96f;\n",
       "            color:  #000000;\n",
       "        }    #T_388344d2_5087_11ea_aa8d_80e6501c9e3erow10_col9 {\n",
       "            background-color:  #3ba76c;\n",
       "            color:  #000000;\n",
       "        }    #T_388344d2_5087_11ea_aa8d_80e6501c9e3erow10_col10 {\n",
       "            background-color:  #00441b;\n",
       "            color:  #f1f1f1;\n",
       "        }    #T_388344d2_5087_11ea_aa8d_80e6501c9e3erow10_col11 {\n",
       "            background-color:  #d9f1f0;\n",
       "            color:  #000000;\n",
       "        }    #T_388344d2_5087_11ea_aa8d_80e6501c9e3erow10_col12 {\n",
       "            background-color:  #3eaa70;\n",
       "            color:  #000000;\n",
       "        }    #T_388344d2_5087_11ea_aa8d_80e6501c9e3erow10_col13 {\n",
       "            background-color:  #e4f5f8;\n",
       "            color:  #000000;\n",
       "        }    #T_388344d2_5087_11ea_aa8d_80e6501c9e3erow11_col0 {\n",
       "            background-color:  #f7fcfd;\n",
       "            color:  #000000;\n",
       "        }    #T_388344d2_5087_11ea_aa8d_80e6501c9e3erow11_col1 {\n",
       "            background-color:  #70c6ac;\n",
       "            color:  #000000;\n",
       "        }    #T_388344d2_5087_11ea_aa8d_80e6501c9e3erow11_col2 {\n",
       "            background-color:  #d5efed;\n",
       "            color:  #000000;\n",
       "        }    #T_388344d2_5087_11ea_aa8d_80e6501c9e3erow11_col3 {\n",
       "            background-color:  #e0f3f5;\n",
       "            color:  #000000;\n",
       "        }    #T_388344d2_5087_11ea_aa8d_80e6501c9e3erow11_col4 {\n",
       "            background-color:  #d2eeeb;\n",
       "            color:  #000000;\n",
       "        }    #T_388344d2_5087_11ea_aa8d_80e6501c9e3erow11_col5 {\n",
       "            background-color:  #77c9b0;\n",
       "            color:  #000000;\n",
       "        }    #T_388344d2_5087_11ea_aa8d_80e6501c9e3erow11_col6 {\n",
       "            background-color:  #c4e9e1;\n",
       "            color:  #000000;\n",
       "        }    #T_388344d2_5087_11ea_aa8d_80e6501c9e3erow11_col7 {\n",
       "            background-color:  #48b27f;\n",
       "            color:  #000000;\n",
       "        }    #T_388344d2_5087_11ea_aa8d_80e6501c9e3erow11_col8 {\n",
       "            background-color:  #f2fafc;\n",
       "            color:  #000000;\n",
       "        }    #T_388344d2_5087_11ea_aa8d_80e6501c9e3erow11_col9 {\n",
       "            background-color:  #eff9fb;\n",
       "            color:  #000000;\n",
       "        }    #T_388344d2_5087_11ea_aa8d_80e6501c9e3erow11_col10 {\n",
       "            background-color:  #d2eeeb;\n",
       "            color:  #000000;\n",
       "        }    #T_388344d2_5087_11ea_aa8d_80e6501c9e3erow11_col11 {\n",
       "            background-color:  #00441b;\n",
       "            color:  #f1f1f1;\n",
       "        }    #T_388344d2_5087_11ea_aa8d_80e6501c9e3erow11_col12 {\n",
       "            background-color:  #d4efec;\n",
       "            color:  #000000;\n",
       "        }    #T_388344d2_5087_11ea_aa8d_80e6501c9e3erow11_col13 {\n",
       "            background-color:  #44af79;\n",
       "            color:  #000000;\n",
       "        }    #T_388344d2_5087_11ea_aa8d_80e6501c9e3erow12_col0 {\n",
       "            background-color:  #46b17c;\n",
       "            color:  #000000;\n",
       "        }    #T_388344d2_5087_11ea_aa8d_80e6501c9e3erow12_col1 {\n",
       "            background-color:  #e9f7fa;\n",
       "            color:  #000000;\n",
       "        }    #T_388344d2_5087_11ea_aa8d_80e6501c9e3erow12_col2 {\n",
       "            background-color:  #1e8741;\n",
       "            color:  #000000;\n",
       "        }    #T_388344d2_5087_11ea_aa8d_80e6501c9e3erow12_col3 {\n",
       "            background-color:  #eff9fb;\n",
       "            color:  #000000;\n",
       "        }    #T_388344d2_5087_11ea_aa8d_80e6501c9e3erow12_col4 {\n",
       "            background-color:  #1e8741;\n",
       "            color:  #000000;\n",
       "        }    #T_388344d2_5087_11ea_aa8d_80e6501c9e3erow12_col5 {\n",
       "            background-color:  #f7fcfd;\n",
       "            color:  #000000;\n",
       "        }    #T_388344d2_5087_11ea_aa8d_80e6501c9e3erow12_col6 {\n",
       "            background-color:  #1d8640;\n",
       "            color:  #000000;\n",
       "        }    #T_388344d2_5087_11ea_aa8d_80e6501c9e3erow12_col7 {\n",
       "            background-color:  #dff3f5;\n",
       "            color:  #000000;\n",
       "        }    #T_388344d2_5087_11ea_aa8d_80e6501c9e3erow12_col8 {\n",
       "            background-color:  #39a569;\n",
       "            color:  #000000;\n",
       "        }    #T_388344d2_5087_11ea_aa8d_80e6501c9e3erow12_col9 {\n",
       "            background-color:  #2f9858;\n",
       "            color:  #000000;\n",
       "        }    #T_388344d2_5087_11ea_aa8d_80e6501c9e3erow12_col10 {\n",
       "            background-color:  #4db585;\n",
       "            color:  #000000;\n",
       "        }    #T_388344d2_5087_11ea_aa8d_80e6501c9e3erow12_col11 {\n",
       "            background-color:  #f0f9fb;\n",
       "            color:  #000000;\n",
       "        }    #T_388344d2_5087_11ea_aa8d_80e6501c9e3erow12_col12 {\n",
       "            background-color:  #00441b;\n",
       "            color:  #f1f1f1;\n",
       "        }    #T_388344d2_5087_11ea_aa8d_80e6501c9e3erow12_col13 {\n",
       "            background-color:  #f7fcfd;\n",
       "            color:  #000000;\n",
       "        }    #T_388344d2_5087_11ea_aa8d_80e6501c9e3erow13_col0 {\n",
       "            background-color:  #f7fcfd;\n",
       "            color:  #000000;\n",
       "        }    #T_388344d2_5087_11ea_aa8d_80e6501c9e3erow13_col1 {\n",
       "            background-color:  #4bb382;\n",
       "            color:  #000000;\n",
       "        }    #T_388344d2_5087_11ea_aa8d_80e6501c9e3erow13_col2 {\n",
       "            background-color:  #e4f5f8;\n",
       "            color:  #000000;\n",
       "        }    #T_388344d2_5087_11ea_aa8d_80e6501c9e3erow13_col3 {\n",
       "            background-color:  #c7eae3;\n",
       "            color:  #000000;\n",
       "        }    #T_388344d2_5087_11ea_aa8d_80e6501c9e3erow13_col4 {\n",
       "            background-color:  #d8f0ef;\n",
       "            color:  #000000;\n",
       "        }    #T_388344d2_5087_11ea_aa8d_80e6501c9e3erow13_col5 {\n",
       "            background-color:  #127c39;\n",
       "            color:  #f1f1f1;\n",
       "        }    #T_388344d2_5087_11ea_aa8d_80e6501c9e3erow13_col6 {\n",
       "            background-color:  #d4efec;\n",
       "            color:  #000000;\n",
       "        }    #T_388344d2_5087_11ea_aa8d_80e6501c9e3erow13_col7 {\n",
       "            background-color:  #4fb688;\n",
       "            color:  #000000;\n",
       "        }    #T_388344d2_5087_11ea_aa8d_80e6501c9e3erow13_col8 {\n",
       "            background-color:  #ecf8fb;\n",
       "            color:  #000000;\n",
       "        }    #T_388344d2_5087_11ea_aa8d_80e6501c9e3erow13_col9 {\n",
       "            background-color:  #f1fafc;\n",
       "            color:  #000000;\n",
       "        }    #T_388344d2_5087_11ea_aa8d_80e6501c9e3erow13_col10 {\n",
       "            background-color:  #f7fcfd;\n",
       "            color:  #000000;\n",
       "        }    #T_388344d2_5087_11ea_aa8d_80e6501c9e3erow13_col11 {\n",
       "            background-color:  #5bbc96;\n",
       "            color:  #000000;\n",
       "        }    #T_388344d2_5087_11ea_aa8d_80e6501c9e3erow13_col12 {\n",
       "            background-color:  #f7fcfd;\n",
       "            color:  #000000;\n",
       "        }    #T_388344d2_5087_11ea_aa8d_80e6501c9e3erow13_col13 {\n",
       "            background-color:  #00441b;\n",
       "            color:  #f1f1f1;\n",
       "        }</style><table id=\"T_388344d2_5087_11ea_aa8d_80e6501c9e3e\" ><thead>    <tr>        <th class=\"blank level0\" ></th>        <th class=\"col_heading level0 col0\" >CRIM</th>        <th class=\"col_heading level0 col1\" >ZN</th>        <th class=\"col_heading level0 col2\" >INDUS</th>        <th class=\"col_heading level0 col3\" >CHAS</th>        <th class=\"col_heading level0 col4\" >NOX</th>        <th class=\"col_heading level0 col5\" >RM</th>        <th class=\"col_heading level0 col6\" >AGE</th>        <th class=\"col_heading level0 col7\" >DIS</th>        <th class=\"col_heading level0 col8\" >RAD</th>        <th class=\"col_heading level0 col9\" >TAX</th>        <th class=\"col_heading level0 col10\" >PTRATIO</th>        <th class=\"col_heading level0 col11\" >B</th>        <th class=\"col_heading level0 col12\" >LSTAT</th>        <th class=\"col_heading level0 col13\" >MEDV</th>    </tr></thead><tbody>\n",
       "                <tr>\n",
       "                        <th id=\"T_388344d2_5087_11ea_aa8d_80e6501c9e3elevel0_row0\" class=\"row_heading level0 row0\" >CRIM</th>\n",
       "                        <td id=\"T_388344d2_5087_11ea_aa8d_80e6501c9e3erow0_col0\" class=\"data row0 col0\" >1</td>\n",
       "                        <td id=\"T_388344d2_5087_11ea_aa8d_80e6501c9e3erow0_col1\" class=\"data row0 col1\" >-0.2</td>\n",
       "                        <td id=\"T_388344d2_5087_11ea_aa8d_80e6501c9e3erow0_col2\" class=\"data row0 col2\" >0.41</td>\n",
       "                        <td id=\"T_388344d2_5087_11ea_aa8d_80e6501c9e3erow0_col3\" class=\"data row0 col3\" >-0.056</td>\n",
       "                        <td id=\"T_388344d2_5087_11ea_aa8d_80e6501c9e3erow0_col4\" class=\"data row0 col4\" >0.42</td>\n",
       "                        <td id=\"T_388344d2_5087_11ea_aa8d_80e6501c9e3erow0_col5\" class=\"data row0 col5\" >-0.22</td>\n",
       "                        <td id=\"T_388344d2_5087_11ea_aa8d_80e6501c9e3erow0_col6\" class=\"data row0 col6\" >0.35</td>\n",
       "                        <td id=\"T_388344d2_5087_11ea_aa8d_80e6501c9e3erow0_col7\" class=\"data row0 col7\" >-0.38</td>\n",
       "                        <td id=\"T_388344d2_5087_11ea_aa8d_80e6501c9e3erow0_col8\" class=\"data row0 col8\" >0.63</td>\n",
       "                        <td id=\"T_388344d2_5087_11ea_aa8d_80e6501c9e3erow0_col9\" class=\"data row0 col9\" >0.58</td>\n",
       "                        <td id=\"T_388344d2_5087_11ea_aa8d_80e6501c9e3erow0_col10\" class=\"data row0 col10\" >0.29</td>\n",
       "                        <td id=\"T_388344d2_5087_11ea_aa8d_80e6501c9e3erow0_col11\" class=\"data row0 col11\" >-0.39</td>\n",
       "                        <td id=\"T_388344d2_5087_11ea_aa8d_80e6501c9e3erow0_col12\" class=\"data row0 col12\" >0.46</td>\n",
       "                        <td id=\"T_388344d2_5087_11ea_aa8d_80e6501c9e3erow0_col13\" class=\"data row0 col13\" >-0.39</td>\n",
       "            </tr>\n",
       "            <tr>\n",
       "                        <th id=\"T_388344d2_5087_11ea_aa8d_80e6501c9e3elevel0_row1\" class=\"row_heading level0 row1\" >ZN</th>\n",
       "                        <td id=\"T_388344d2_5087_11ea_aa8d_80e6501c9e3erow1_col0\" class=\"data row1 col0\" >-0.2</td>\n",
       "                        <td id=\"T_388344d2_5087_11ea_aa8d_80e6501c9e3erow1_col1\" class=\"data row1 col1\" >1</td>\n",
       "                        <td id=\"T_388344d2_5087_11ea_aa8d_80e6501c9e3erow1_col2\" class=\"data row1 col2\" >-0.53</td>\n",
       "                        <td id=\"T_388344d2_5087_11ea_aa8d_80e6501c9e3erow1_col3\" class=\"data row1 col3\" >-0.043</td>\n",
       "                        <td id=\"T_388344d2_5087_11ea_aa8d_80e6501c9e3erow1_col4\" class=\"data row1 col4\" >-0.52</td>\n",
       "                        <td id=\"T_388344d2_5087_11ea_aa8d_80e6501c9e3erow1_col5\" class=\"data row1 col5\" >0.31</td>\n",
       "                        <td id=\"T_388344d2_5087_11ea_aa8d_80e6501c9e3erow1_col6\" class=\"data row1 col6\" >-0.57</td>\n",
       "                        <td id=\"T_388344d2_5087_11ea_aa8d_80e6501c9e3erow1_col7\" class=\"data row1 col7\" >0.66</td>\n",
       "                        <td id=\"T_388344d2_5087_11ea_aa8d_80e6501c9e3erow1_col8\" class=\"data row1 col8\" >-0.31</td>\n",
       "                        <td id=\"T_388344d2_5087_11ea_aa8d_80e6501c9e3erow1_col9\" class=\"data row1 col9\" >-0.31</td>\n",
       "                        <td id=\"T_388344d2_5087_11ea_aa8d_80e6501c9e3erow1_col10\" class=\"data row1 col10\" >-0.39</td>\n",
       "                        <td id=\"T_388344d2_5087_11ea_aa8d_80e6501c9e3erow1_col11\" class=\"data row1 col11\" >0.18</td>\n",
       "                        <td id=\"T_388344d2_5087_11ea_aa8d_80e6501c9e3erow1_col12\" class=\"data row1 col12\" >-0.41</td>\n",
       "                        <td id=\"T_388344d2_5087_11ea_aa8d_80e6501c9e3erow1_col13\" class=\"data row1 col13\" >0.36</td>\n",
       "            </tr>\n",
       "            <tr>\n",
       "                        <th id=\"T_388344d2_5087_11ea_aa8d_80e6501c9e3elevel0_row2\" class=\"row_heading level0 row2\" >INDUS</th>\n",
       "                        <td id=\"T_388344d2_5087_11ea_aa8d_80e6501c9e3erow2_col0\" class=\"data row2 col0\" >0.41</td>\n",
       "                        <td id=\"T_388344d2_5087_11ea_aa8d_80e6501c9e3erow2_col1\" class=\"data row2 col1\" >-0.53</td>\n",
       "                        <td id=\"T_388344d2_5087_11ea_aa8d_80e6501c9e3erow2_col2\" class=\"data row2 col2\" >1</td>\n",
       "                        <td id=\"T_388344d2_5087_11ea_aa8d_80e6501c9e3erow2_col3\" class=\"data row2 col3\" >0.063</td>\n",
       "                        <td id=\"T_388344d2_5087_11ea_aa8d_80e6501c9e3erow2_col4\" class=\"data row2 col4\" >0.76</td>\n",
       "                        <td id=\"T_388344d2_5087_11ea_aa8d_80e6501c9e3erow2_col5\" class=\"data row2 col5\" >-0.39</td>\n",
       "                        <td id=\"T_388344d2_5087_11ea_aa8d_80e6501c9e3erow2_col6\" class=\"data row2 col6\" >0.64</td>\n",
       "                        <td id=\"T_388344d2_5087_11ea_aa8d_80e6501c9e3erow2_col7\" class=\"data row2 col7\" >-0.71</td>\n",
       "                        <td id=\"T_388344d2_5087_11ea_aa8d_80e6501c9e3erow2_col8\" class=\"data row2 col8\" >0.6</td>\n",
       "                        <td id=\"T_388344d2_5087_11ea_aa8d_80e6501c9e3erow2_col9\" class=\"data row2 col9\" >0.72</td>\n",
       "                        <td id=\"T_388344d2_5087_11ea_aa8d_80e6501c9e3erow2_col10\" class=\"data row2 col10\" >0.38</td>\n",
       "                        <td id=\"T_388344d2_5087_11ea_aa8d_80e6501c9e3erow2_col11\" class=\"data row2 col11\" >-0.36</td>\n",
       "                        <td id=\"T_388344d2_5087_11ea_aa8d_80e6501c9e3erow2_col12\" class=\"data row2 col12\" >0.6</td>\n",
       "                        <td id=\"T_388344d2_5087_11ea_aa8d_80e6501c9e3erow2_col13\" class=\"data row2 col13\" >-0.48</td>\n",
       "            </tr>\n",
       "            <tr>\n",
       "                        <th id=\"T_388344d2_5087_11ea_aa8d_80e6501c9e3elevel0_row3\" class=\"row_heading level0 row3\" >CHAS</th>\n",
       "                        <td id=\"T_388344d2_5087_11ea_aa8d_80e6501c9e3erow3_col0\" class=\"data row3 col0\" >-0.056</td>\n",
       "                        <td id=\"T_388344d2_5087_11ea_aa8d_80e6501c9e3erow3_col1\" class=\"data row3 col1\" >-0.043</td>\n",
       "                        <td id=\"T_388344d2_5087_11ea_aa8d_80e6501c9e3erow3_col2\" class=\"data row3 col2\" >0.063</td>\n",
       "                        <td id=\"T_388344d2_5087_11ea_aa8d_80e6501c9e3erow3_col3\" class=\"data row3 col3\" >1</td>\n",
       "                        <td id=\"T_388344d2_5087_11ea_aa8d_80e6501c9e3erow3_col4\" class=\"data row3 col4\" >0.091</td>\n",
       "                        <td id=\"T_388344d2_5087_11ea_aa8d_80e6501c9e3erow3_col5\" class=\"data row3 col5\" >0.091</td>\n",
       "                        <td id=\"T_388344d2_5087_11ea_aa8d_80e6501c9e3erow3_col6\" class=\"data row3 col6\" >0.087</td>\n",
       "                        <td id=\"T_388344d2_5087_11ea_aa8d_80e6501c9e3erow3_col7\" class=\"data row3 col7\" >-0.099</td>\n",
       "                        <td id=\"T_388344d2_5087_11ea_aa8d_80e6501c9e3erow3_col8\" class=\"data row3 col8\" >-0.0074</td>\n",
       "                        <td id=\"T_388344d2_5087_11ea_aa8d_80e6501c9e3erow3_col9\" class=\"data row3 col9\" >-0.036</td>\n",
       "                        <td id=\"T_388344d2_5087_11ea_aa8d_80e6501c9e3erow3_col10\" class=\"data row3 col10\" >-0.12</td>\n",
       "                        <td id=\"T_388344d2_5087_11ea_aa8d_80e6501c9e3erow3_col11\" class=\"data row3 col11\" >0.049</td>\n",
       "                        <td id=\"T_388344d2_5087_11ea_aa8d_80e6501c9e3erow3_col12\" class=\"data row3 col12\" >-0.054</td>\n",
       "                        <td id=\"T_388344d2_5087_11ea_aa8d_80e6501c9e3erow3_col13\" class=\"data row3 col13\" >0.18</td>\n",
       "            </tr>\n",
       "            <tr>\n",
       "                        <th id=\"T_388344d2_5087_11ea_aa8d_80e6501c9e3elevel0_row4\" class=\"row_heading level0 row4\" >NOX</th>\n",
       "                        <td id=\"T_388344d2_5087_11ea_aa8d_80e6501c9e3erow4_col0\" class=\"data row4 col0\" >0.42</td>\n",
       "                        <td id=\"T_388344d2_5087_11ea_aa8d_80e6501c9e3erow4_col1\" class=\"data row4 col1\" >-0.52</td>\n",
       "                        <td id=\"T_388344d2_5087_11ea_aa8d_80e6501c9e3erow4_col2\" class=\"data row4 col2\" >0.76</td>\n",
       "                        <td id=\"T_388344d2_5087_11ea_aa8d_80e6501c9e3erow4_col3\" class=\"data row4 col3\" >0.091</td>\n",
       "                        <td id=\"T_388344d2_5087_11ea_aa8d_80e6501c9e3erow4_col4\" class=\"data row4 col4\" >1</td>\n",
       "                        <td id=\"T_388344d2_5087_11ea_aa8d_80e6501c9e3erow4_col5\" class=\"data row4 col5\" >-0.3</td>\n",
       "                        <td id=\"T_388344d2_5087_11ea_aa8d_80e6501c9e3erow4_col6\" class=\"data row4 col6\" >0.73</td>\n",
       "                        <td id=\"T_388344d2_5087_11ea_aa8d_80e6501c9e3erow4_col7\" class=\"data row4 col7\" >-0.77</td>\n",
       "                        <td id=\"T_388344d2_5087_11ea_aa8d_80e6501c9e3erow4_col8\" class=\"data row4 col8\" >0.61</td>\n",
       "                        <td id=\"T_388344d2_5087_11ea_aa8d_80e6501c9e3erow4_col9\" class=\"data row4 col9\" >0.67</td>\n",
       "                        <td id=\"T_388344d2_5087_11ea_aa8d_80e6501c9e3erow4_col10\" class=\"data row4 col10\" >0.19</td>\n",
       "                        <td id=\"T_388344d2_5087_11ea_aa8d_80e6501c9e3erow4_col11\" class=\"data row4 col11\" >-0.38</td>\n",
       "                        <td id=\"T_388344d2_5087_11ea_aa8d_80e6501c9e3erow4_col12\" class=\"data row4 col12\" >0.59</td>\n",
       "                        <td id=\"T_388344d2_5087_11ea_aa8d_80e6501c9e3erow4_col13\" class=\"data row4 col13\" >-0.43</td>\n",
       "            </tr>\n",
       "            <tr>\n",
       "                        <th id=\"T_388344d2_5087_11ea_aa8d_80e6501c9e3elevel0_row5\" class=\"row_heading level0 row5\" >RM</th>\n",
       "                        <td id=\"T_388344d2_5087_11ea_aa8d_80e6501c9e3erow5_col0\" class=\"data row5 col0\" >-0.22</td>\n",
       "                        <td id=\"T_388344d2_5087_11ea_aa8d_80e6501c9e3erow5_col1\" class=\"data row5 col1\" >0.31</td>\n",
       "                        <td id=\"T_388344d2_5087_11ea_aa8d_80e6501c9e3erow5_col2\" class=\"data row5 col2\" >-0.39</td>\n",
       "                        <td id=\"T_388344d2_5087_11ea_aa8d_80e6501c9e3erow5_col3\" class=\"data row5 col3\" >0.091</td>\n",
       "                        <td id=\"T_388344d2_5087_11ea_aa8d_80e6501c9e3erow5_col4\" class=\"data row5 col4\" >-0.3</td>\n",
       "                        <td id=\"T_388344d2_5087_11ea_aa8d_80e6501c9e3erow5_col5\" class=\"data row5 col5\" >1</td>\n",
       "                        <td id=\"T_388344d2_5087_11ea_aa8d_80e6501c9e3erow5_col6\" class=\"data row5 col6\" >-0.24</td>\n",
       "                        <td id=\"T_388344d2_5087_11ea_aa8d_80e6501c9e3erow5_col7\" class=\"data row5 col7\" >0.21</td>\n",
       "                        <td id=\"T_388344d2_5087_11ea_aa8d_80e6501c9e3erow5_col8\" class=\"data row5 col8\" >-0.21</td>\n",
       "                        <td id=\"T_388344d2_5087_11ea_aa8d_80e6501c9e3erow5_col9\" class=\"data row5 col9\" >-0.29</td>\n",
       "                        <td id=\"T_388344d2_5087_11ea_aa8d_80e6501c9e3erow5_col10\" class=\"data row5 col10\" >-0.36</td>\n",
       "                        <td id=\"T_388344d2_5087_11ea_aa8d_80e6501c9e3erow5_col11\" class=\"data row5 col11\" >0.13</td>\n",
       "                        <td id=\"T_388344d2_5087_11ea_aa8d_80e6501c9e3erow5_col12\" class=\"data row5 col12\" >-0.61</td>\n",
       "                        <td id=\"T_388344d2_5087_11ea_aa8d_80e6501c9e3erow5_col13\" class=\"data row5 col13\" >0.7</td>\n",
       "            </tr>\n",
       "            <tr>\n",
       "                        <th id=\"T_388344d2_5087_11ea_aa8d_80e6501c9e3elevel0_row6\" class=\"row_heading level0 row6\" >AGE</th>\n",
       "                        <td id=\"T_388344d2_5087_11ea_aa8d_80e6501c9e3erow6_col0\" class=\"data row6 col0\" >0.35</td>\n",
       "                        <td id=\"T_388344d2_5087_11ea_aa8d_80e6501c9e3erow6_col1\" class=\"data row6 col1\" >-0.57</td>\n",
       "                        <td id=\"T_388344d2_5087_11ea_aa8d_80e6501c9e3erow6_col2\" class=\"data row6 col2\" >0.64</td>\n",
       "                        <td id=\"T_388344d2_5087_11ea_aa8d_80e6501c9e3erow6_col3\" class=\"data row6 col3\" >0.087</td>\n",
       "                        <td id=\"T_388344d2_5087_11ea_aa8d_80e6501c9e3erow6_col4\" class=\"data row6 col4\" >0.73</td>\n",
       "                        <td id=\"T_388344d2_5087_11ea_aa8d_80e6501c9e3erow6_col5\" class=\"data row6 col5\" >-0.24</td>\n",
       "                        <td id=\"T_388344d2_5087_11ea_aa8d_80e6501c9e3erow6_col6\" class=\"data row6 col6\" >1</td>\n",
       "                        <td id=\"T_388344d2_5087_11ea_aa8d_80e6501c9e3erow6_col7\" class=\"data row6 col7\" >-0.75</td>\n",
       "                        <td id=\"T_388344d2_5087_11ea_aa8d_80e6501c9e3erow6_col8\" class=\"data row6 col8\" >0.46</td>\n",
       "                        <td id=\"T_388344d2_5087_11ea_aa8d_80e6501c9e3erow6_col9\" class=\"data row6 col9\" >0.51</td>\n",
       "                        <td id=\"T_388344d2_5087_11ea_aa8d_80e6501c9e3erow6_col10\" class=\"data row6 col10\" >0.26</td>\n",
       "                        <td id=\"T_388344d2_5087_11ea_aa8d_80e6501c9e3erow6_col11\" class=\"data row6 col11\" >-0.27</td>\n",
       "                        <td id=\"T_388344d2_5087_11ea_aa8d_80e6501c9e3erow6_col12\" class=\"data row6 col12\" >0.6</td>\n",
       "                        <td id=\"T_388344d2_5087_11ea_aa8d_80e6501c9e3erow6_col13\" class=\"data row6 col13\" >-0.38</td>\n",
       "            </tr>\n",
       "            <tr>\n",
       "                        <th id=\"T_388344d2_5087_11ea_aa8d_80e6501c9e3elevel0_row7\" class=\"row_heading level0 row7\" >DIS</th>\n",
       "                        <td id=\"T_388344d2_5087_11ea_aa8d_80e6501c9e3erow7_col0\" class=\"data row7 col0\" >-0.38</td>\n",
       "                        <td id=\"T_388344d2_5087_11ea_aa8d_80e6501c9e3erow7_col1\" class=\"data row7 col1\" >0.66</td>\n",
       "                        <td id=\"T_388344d2_5087_11ea_aa8d_80e6501c9e3erow7_col2\" class=\"data row7 col2\" >-0.71</td>\n",
       "                        <td id=\"T_388344d2_5087_11ea_aa8d_80e6501c9e3erow7_col3\" class=\"data row7 col3\" >-0.099</td>\n",
       "                        <td id=\"T_388344d2_5087_11ea_aa8d_80e6501c9e3erow7_col4\" class=\"data row7 col4\" >-0.77</td>\n",
       "                        <td id=\"T_388344d2_5087_11ea_aa8d_80e6501c9e3erow7_col5\" class=\"data row7 col5\" >0.21</td>\n",
       "                        <td id=\"T_388344d2_5087_11ea_aa8d_80e6501c9e3erow7_col6\" class=\"data row7 col6\" >-0.75</td>\n",
       "                        <td id=\"T_388344d2_5087_11ea_aa8d_80e6501c9e3erow7_col7\" class=\"data row7 col7\" >1</td>\n",
       "                        <td id=\"T_388344d2_5087_11ea_aa8d_80e6501c9e3erow7_col8\" class=\"data row7 col8\" >-0.49</td>\n",
       "                        <td id=\"T_388344d2_5087_11ea_aa8d_80e6501c9e3erow7_col9\" class=\"data row7 col9\" >-0.53</td>\n",
       "                        <td id=\"T_388344d2_5087_11ea_aa8d_80e6501c9e3erow7_col10\" class=\"data row7 col10\" >-0.23</td>\n",
       "                        <td id=\"T_388344d2_5087_11ea_aa8d_80e6501c9e3erow7_col11\" class=\"data row7 col11\" >0.29</td>\n",
       "                        <td id=\"T_388344d2_5087_11ea_aa8d_80e6501c9e3erow7_col12\" class=\"data row7 col12\" >-0.5</td>\n",
       "                        <td id=\"T_388344d2_5087_11ea_aa8d_80e6501c9e3erow7_col13\" class=\"data row7 col13\" >0.25</td>\n",
       "            </tr>\n",
       "            <tr>\n",
       "                        <th id=\"T_388344d2_5087_11ea_aa8d_80e6501c9e3elevel0_row8\" class=\"row_heading level0 row8\" >RAD</th>\n",
       "                        <td id=\"T_388344d2_5087_11ea_aa8d_80e6501c9e3erow8_col0\" class=\"data row8 col0\" >0.63</td>\n",
       "                        <td id=\"T_388344d2_5087_11ea_aa8d_80e6501c9e3erow8_col1\" class=\"data row8 col1\" >-0.31</td>\n",
       "                        <td id=\"T_388344d2_5087_11ea_aa8d_80e6501c9e3erow8_col2\" class=\"data row8 col2\" >0.6</td>\n",
       "                        <td id=\"T_388344d2_5087_11ea_aa8d_80e6501c9e3erow8_col3\" class=\"data row8 col3\" >-0.0074</td>\n",
       "                        <td id=\"T_388344d2_5087_11ea_aa8d_80e6501c9e3erow8_col4\" class=\"data row8 col4\" >0.61</td>\n",
       "                        <td id=\"T_388344d2_5087_11ea_aa8d_80e6501c9e3erow8_col5\" class=\"data row8 col5\" >-0.21</td>\n",
       "                        <td id=\"T_388344d2_5087_11ea_aa8d_80e6501c9e3erow8_col6\" class=\"data row8 col6\" >0.46</td>\n",
       "                        <td id=\"T_388344d2_5087_11ea_aa8d_80e6501c9e3erow8_col7\" class=\"data row8 col7\" >-0.49</td>\n",
       "                        <td id=\"T_388344d2_5087_11ea_aa8d_80e6501c9e3erow8_col8\" class=\"data row8 col8\" >1</td>\n",
       "                        <td id=\"T_388344d2_5087_11ea_aa8d_80e6501c9e3erow8_col9\" class=\"data row8 col9\" >0.91</td>\n",
       "                        <td id=\"T_388344d2_5087_11ea_aa8d_80e6501c9e3erow8_col10\" class=\"data row8 col10\" >0.46</td>\n",
       "                        <td id=\"T_388344d2_5087_11ea_aa8d_80e6501c9e3erow8_col11\" class=\"data row8 col11\" >-0.44</td>\n",
       "                        <td id=\"T_388344d2_5087_11ea_aa8d_80e6501c9e3erow8_col12\" class=\"data row8 col12\" >0.49</td>\n",
       "                        <td id=\"T_388344d2_5087_11ea_aa8d_80e6501c9e3erow8_col13\" class=\"data row8 col13\" >-0.38</td>\n",
       "            </tr>\n",
       "            <tr>\n",
       "                        <th id=\"T_388344d2_5087_11ea_aa8d_80e6501c9e3elevel0_row9\" class=\"row_heading level0 row9\" >TAX</th>\n",
       "                        <td id=\"T_388344d2_5087_11ea_aa8d_80e6501c9e3erow9_col0\" class=\"data row9 col0\" >0.58</td>\n",
       "                        <td id=\"T_388344d2_5087_11ea_aa8d_80e6501c9e3erow9_col1\" class=\"data row9 col1\" >-0.31</td>\n",
       "                        <td id=\"T_388344d2_5087_11ea_aa8d_80e6501c9e3erow9_col2\" class=\"data row9 col2\" >0.72</td>\n",
       "                        <td id=\"T_388344d2_5087_11ea_aa8d_80e6501c9e3erow9_col3\" class=\"data row9 col3\" >-0.036</td>\n",
       "                        <td id=\"T_388344d2_5087_11ea_aa8d_80e6501c9e3erow9_col4\" class=\"data row9 col4\" >0.67</td>\n",
       "                        <td id=\"T_388344d2_5087_11ea_aa8d_80e6501c9e3erow9_col5\" class=\"data row9 col5\" >-0.29</td>\n",
       "                        <td id=\"T_388344d2_5087_11ea_aa8d_80e6501c9e3erow9_col6\" class=\"data row9 col6\" >0.51</td>\n",
       "                        <td id=\"T_388344d2_5087_11ea_aa8d_80e6501c9e3erow9_col7\" class=\"data row9 col7\" >-0.53</td>\n",
       "                        <td id=\"T_388344d2_5087_11ea_aa8d_80e6501c9e3erow9_col8\" class=\"data row9 col8\" >0.91</td>\n",
       "                        <td id=\"T_388344d2_5087_11ea_aa8d_80e6501c9e3erow9_col9\" class=\"data row9 col9\" >1</td>\n",
       "                        <td id=\"T_388344d2_5087_11ea_aa8d_80e6501c9e3erow9_col10\" class=\"data row9 col10\" >0.46</td>\n",
       "                        <td id=\"T_388344d2_5087_11ea_aa8d_80e6501c9e3erow9_col11\" class=\"data row9 col11\" >-0.44</td>\n",
       "                        <td id=\"T_388344d2_5087_11ea_aa8d_80e6501c9e3erow9_col12\" class=\"data row9 col12\" >0.54</td>\n",
       "                        <td id=\"T_388344d2_5087_11ea_aa8d_80e6501c9e3erow9_col13\" class=\"data row9 col13\" >-0.47</td>\n",
       "            </tr>\n",
       "            <tr>\n",
       "                        <th id=\"T_388344d2_5087_11ea_aa8d_80e6501c9e3elevel0_row10\" class=\"row_heading level0 row10\" >PTRATIO</th>\n",
       "                        <td id=\"T_388344d2_5087_11ea_aa8d_80e6501c9e3erow10_col0\" class=\"data row10 col0\" >0.29</td>\n",
       "                        <td id=\"T_388344d2_5087_11ea_aa8d_80e6501c9e3erow10_col1\" class=\"data row10 col1\" >-0.39</td>\n",
       "                        <td id=\"T_388344d2_5087_11ea_aa8d_80e6501c9e3erow10_col2\" class=\"data row10 col2\" >0.38</td>\n",
       "                        <td id=\"T_388344d2_5087_11ea_aa8d_80e6501c9e3erow10_col3\" class=\"data row10 col3\" >-0.12</td>\n",
       "                        <td id=\"T_388344d2_5087_11ea_aa8d_80e6501c9e3erow10_col4\" class=\"data row10 col4\" >0.19</td>\n",
       "                        <td id=\"T_388344d2_5087_11ea_aa8d_80e6501c9e3erow10_col5\" class=\"data row10 col5\" >-0.36</td>\n",
       "                        <td id=\"T_388344d2_5087_11ea_aa8d_80e6501c9e3erow10_col6\" class=\"data row10 col6\" >0.26</td>\n",
       "                        <td id=\"T_388344d2_5087_11ea_aa8d_80e6501c9e3erow10_col7\" class=\"data row10 col7\" >-0.23</td>\n",
       "                        <td id=\"T_388344d2_5087_11ea_aa8d_80e6501c9e3erow10_col8\" class=\"data row10 col8\" >0.46</td>\n",
       "                        <td id=\"T_388344d2_5087_11ea_aa8d_80e6501c9e3erow10_col9\" class=\"data row10 col9\" >0.46</td>\n",
       "                        <td id=\"T_388344d2_5087_11ea_aa8d_80e6501c9e3erow10_col10\" class=\"data row10 col10\" >1</td>\n",
       "                        <td id=\"T_388344d2_5087_11ea_aa8d_80e6501c9e3erow10_col11\" class=\"data row10 col11\" >-0.18</td>\n",
       "                        <td id=\"T_388344d2_5087_11ea_aa8d_80e6501c9e3erow10_col12\" class=\"data row10 col12\" >0.37</td>\n",
       "                        <td id=\"T_388344d2_5087_11ea_aa8d_80e6501c9e3erow10_col13\" class=\"data row10 col13\" >-0.51</td>\n",
       "            </tr>\n",
       "            <tr>\n",
       "                        <th id=\"T_388344d2_5087_11ea_aa8d_80e6501c9e3elevel0_row11\" class=\"row_heading level0 row11\" >B</th>\n",
       "                        <td id=\"T_388344d2_5087_11ea_aa8d_80e6501c9e3erow11_col0\" class=\"data row11 col0\" >-0.39</td>\n",
       "                        <td id=\"T_388344d2_5087_11ea_aa8d_80e6501c9e3erow11_col1\" class=\"data row11 col1\" >0.18</td>\n",
       "                        <td id=\"T_388344d2_5087_11ea_aa8d_80e6501c9e3erow11_col2\" class=\"data row11 col2\" >-0.36</td>\n",
       "                        <td id=\"T_388344d2_5087_11ea_aa8d_80e6501c9e3erow11_col3\" class=\"data row11 col3\" >0.049</td>\n",
       "                        <td id=\"T_388344d2_5087_11ea_aa8d_80e6501c9e3erow11_col4\" class=\"data row11 col4\" >-0.38</td>\n",
       "                        <td id=\"T_388344d2_5087_11ea_aa8d_80e6501c9e3erow11_col5\" class=\"data row11 col5\" >0.13</td>\n",
       "                        <td id=\"T_388344d2_5087_11ea_aa8d_80e6501c9e3erow11_col6\" class=\"data row11 col6\" >-0.27</td>\n",
       "                        <td id=\"T_388344d2_5087_11ea_aa8d_80e6501c9e3erow11_col7\" class=\"data row11 col7\" >0.29</td>\n",
       "                        <td id=\"T_388344d2_5087_11ea_aa8d_80e6501c9e3erow11_col8\" class=\"data row11 col8\" >-0.44</td>\n",
       "                        <td id=\"T_388344d2_5087_11ea_aa8d_80e6501c9e3erow11_col9\" class=\"data row11 col9\" >-0.44</td>\n",
       "                        <td id=\"T_388344d2_5087_11ea_aa8d_80e6501c9e3erow11_col10\" class=\"data row11 col10\" >-0.18</td>\n",
       "                        <td id=\"T_388344d2_5087_11ea_aa8d_80e6501c9e3erow11_col11\" class=\"data row11 col11\" >1</td>\n",
       "                        <td id=\"T_388344d2_5087_11ea_aa8d_80e6501c9e3erow11_col12\" class=\"data row11 col12\" >-0.37</td>\n",
       "                        <td id=\"T_388344d2_5087_11ea_aa8d_80e6501c9e3erow11_col13\" class=\"data row11 col13\" >0.33</td>\n",
       "            </tr>\n",
       "            <tr>\n",
       "                        <th id=\"T_388344d2_5087_11ea_aa8d_80e6501c9e3elevel0_row12\" class=\"row_heading level0 row12\" >LSTAT</th>\n",
       "                        <td id=\"T_388344d2_5087_11ea_aa8d_80e6501c9e3erow12_col0\" class=\"data row12 col0\" >0.46</td>\n",
       "                        <td id=\"T_388344d2_5087_11ea_aa8d_80e6501c9e3erow12_col1\" class=\"data row12 col1\" >-0.41</td>\n",
       "                        <td id=\"T_388344d2_5087_11ea_aa8d_80e6501c9e3erow12_col2\" class=\"data row12 col2\" >0.6</td>\n",
       "                        <td id=\"T_388344d2_5087_11ea_aa8d_80e6501c9e3erow12_col3\" class=\"data row12 col3\" >-0.054</td>\n",
       "                        <td id=\"T_388344d2_5087_11ea_aa8d_80e6501c9e3erow12_col4\" class=\"data row12 col4\" >0.59</td>\n",
       "                        <td id=\"T_388344d2_5087_11ea_aa8d_80e6501c9e3erow12_col5\" class=\"data row12 col5\" >-0.61</td>\n",
       "                        <td id=\"T_388344d2_5087_11ea_aa8d_80e6501c9e3erow12_col6\" class=\"data row12 col6\" >0.6</td>\n",
       "                        <td id=\"T_388344d2_5087_11ea_aa8d_80e6501c9e3erow12_col7\" class=\"data row12 col7\" >-0.5</td>\n",
       "                        <td id=\"T_388344d2_5087_11ea_aa8d_80e6501c9e3erow12_col8\" class=\"data row12 col8\" >0.49</td>\n",
       "                        <td id=\"T_388344d2_5087_11ea_aa8d_80e6501c9e3erow12_col9\" class=\"data row12 col9\" >0.54</td>\n",
       "                        <td id=\"T_388344d2_5087_11ea_aa8d_80e6501c9e3erow12_col10\" class=\"data row12 col10\" >0.37</td>\n",
       "                        <td id=\"T_388344d2_5087_11ea_aa8d_80e6501c9e3erow12_col11\" class=\"data row12 col11\" >-0.37</td>\n",
       "                        <td id=\"T_388344d2_5087_11ea_aa8d_80e6501c9e3erow12_col12\" class=\"data row12 col12\" >1</td>\n",
       "                        <td id=\"T_388344d2_5087_11ea_aa8d_80e6501c9e3erow12_col13\" class=\"data row12 col13\" >-0.74</td>\n",
       "            </tr>\n",
       "            <tr>\n",
       "                        <th id=\"T_388344d2_5087_11ea_aa8d_80e6501c9e3elevel0_row13\" class=\"row_heading level0 row13\" >MEDV</th>\n",
       "                        <td id=\"T_388344d2_5087_11ea_aa8d_80e6501c9e3erow13_col0\" class=\"data row13 col0\" >-0.39</td>\n",
       "                        <td id=\"T_388344d2_5087_11ea_aa8d_80e6501c9e3erow13_col1\" class=\"data row13 col1\" >0.36</td>\n",
       "                        <td id=\"T_388344d2_5087_11ea_aa8d_80e6501c9e3erow13_col2\" class=\"data row13 col2\" >-0.48</td>\n",
       "                        <td id=\"T_388344d2_5087_11ea_aa8d_80e6501c9e3erow13_col3\" class=\"data row13 col3\" >0.18</td>\n",
       "                        <td id=\"T_388344d2_5087_11ea_aa8d_80e6501c9e3erow13_col4\" class=\"data row13 col4\" >-0.43</td>\n",
       "                        <td id=\"T_388344d2_5087_11ea_aa8d_80e6501c9e3erow13_col5\" class=\"data row13 col5\" >0.7</td>\n",
       "                        <td id=\"T_388344d2_5087_11ea_aa8d_80e6501c9e3erow13_col6\" class=\"data row13 col6\" >-0.38</td>\n",
       "                        <td id=\"T_388344d2_5087_11ea_aa8d_80e6501c9e3erow13_col7\" class=\"data row13 col7\" >0.25</td>\n",
       "                        <td id=\"T_388344d2_5087_11ea_aa8d_80e6501c9e3erow13_col8\" class=\"data row13 col8\" >-0.38</td>\n",
       "                        <td id=\"T_388344d2_5087_11ea_aa8d_80e6501c9e3erow13_col9\" class=\"data row13 col9\" >-0.47</td>\n",
       "                        <td id=\"T_388344d2_5087_11ea_aa8d_80e6501c9e3erow13_col10\" class=\"data row13 col10\" >-0.51</td>\n",
       "                        <td id=\"T_388344d2_5087_11ea_aa8d_80e6501c9e3erow13_col11\" class=\"data row13 col11\" >0.33</td>\n",
       "                        <td id=\"T_388344d2_5087_11ea_aa8d_80e6501c9e3erow13_col12\" class=\"data row13 col12\" >-0.74</td>\n",
       "                        <td id=\"T_388344d2_5087_11ea_aa8d_80e6501c9e3erow13_col13\" class=\"data row13 col13\" >1</td>\n",
       "            </tr>\n",
       "    </tbody></table>"
      ],
      "text/plain": [
       "<pandas.io.formats.style.Styler at 0x1a28d11310>"
      ]
     },
     "execution_count": 146,
     "metadata": {},
     "output_type": "execute_result"
    }
   ],
   "source": [
    "data.corr().style.background_gradient(cmap='BuGn').set_precision(2)\n",
    "#цена дома не сильно коррелирует с прочими атрибутами по отдельности. Есть только два атрибута, где мы можем сказать,\n",
    "#что цена дома с ними коррелирует: кол-во комнат в доме (0.7) и обратная корреляция с % низкостатусного населения (-0.74) "
   ]
  },
  {
   "cell_type": "markdown",
   "metadata": {
    "colab_type": "text",
    "id": "111lURJGVrbU"
   },
   "source": [
    "Написать **линейную регрессию** на два атрибута. Допустим, мы хотим предсказать цену дома (MEDV) в Бостоне, зная что цена на дом имеет линейную зависимость с атрибутом LSTAT. "
   ]
  },
  {
   "cell_type": "markdown",
   "metadata": {
    "colab_type": "text",
    "id": "Naz_Byg1WKhm"
   },
   "source": [
    "\n",
    "\n",
    "1.   Разделить данные на 80% тренировочных, 20% тестовых\n",
    "2.   Составить модель линейной регрессии\n",
    "3.   Посчитать ошибку модели на тестовых данных\n",
    "4.   Сделать точечный график данных и полученной прямой линейной регрессии\n",
    "\n"
   ]
  },
  {
   "cell_type": "code",
   "execution_count": 147,
   "metadata": {},
   "outputs": [],
   "source": [
    "LSTAT = np.array(data.LSTAT).reshape(-1, 1)\n",
    "MEDV = np.array(data.MEDV).reshape(-1, 1)"
   ]
  },
  {
   "cell_type": "code",
   "execution_count": 148,
   "metadata": {},
   "outputs": [],
   "source": [
    "from sklearn.linear_model import LinearRegression\n",
    "model = LinearRegression()"
   ]
  },
  {
   "cell_type": "code",
   "execution_count": 149,
   "metadata": {},
   "outputs": [],
   "source": [
    "from sklearn.model_selection import train_test_split\n",
    "\n",
    "# x = LSTAT,\n",
    "# y = MEDV\n",
    "i = 1\n",
    "score_list = []\n",
    "while i < 6:\n",
    "    x_train, x_test, y_train, y_test = train_test_split(LSTAT, MEDV, test_size = 0.2)\n",
    "    model.fit(x_train, y_train)\n",
    "    Predicted_MEDV = model.predict(x_test)\n",
    "    score_list.append(model.score(x_test, y_test))\n",
    "    i += 1\n",
    "x_train, x_test, y_train, y_test = train_test_split(LSTAT, MEDV, test_size = 0.2)\n",
    "model.fit(x_train, y_train)\n",
    "Predicted_MEDV = model.predict(x_test)"
   ]
  },
  {
   "cell_type": "code",
   "execution_count": 150,
   "metadata": {},
   "outputs": [
    {
     "data": {
      "text/plain": [
       "0.5049101858035285"
      ]
     },
     "execution_count": 150,
     "metadata": {},
     "output_type": "execute_result"
    }
   ],
   "source": [
    "sum(score_list) / len(score_list)"
   ]
  },
  {
   "cell_type": "code",
   "execution_count": 151,
   "metadata": {},
   "outputs": [
    {
     "data": {
      "text/plain": [
       "[<matplotlib.lines.Line2D at 0x1a25ea0450>]"
      ]
     },
     "execution_count": 151,
     "metadata": {},
     "output_type": "execute_result"
    },
    {
     "data": {
      "image/png": "[encoded data removed]",
      "text/plain": [
       "<Figure size 432x288 with 1 Axes>"
      ]
     },
     "metadata": {
      "needs_background": "light"
     },
     "output_type": "display_data"
    }
   ],
   "source": [
    "plt.plot(x_train, y_train, 'b.')\n",
    "plt.plot(x_test, y_test, 'ro')\n",
    "plt.xlabel('LSTAT')\n",
    "plt.ylabel('MEDV')\n",
    "x = np.linspace(-5, 36, 40)\n",
    "y = model.coef_*x + model.intercept_\n",
    "y = np.transpose(y)\n",
    "plt.plot(x, y)"
   ]
  },
  {
   "cell_type": "markdown",
   "metadata": {},
   "source": [
    "линейная регрессия здесь не подходит. Это видно и по графику, и по ошибке модели. Скорее надо строить не линейную регрессию, а уравнение экспоненциального распределения."
   ]
  },
  {
   "cell_type": "code",
   "execution_count": null,
   "metadata": {},
   "outputs": [],
   "source": []
  },
  {
   "cell_type": "code",
   "execution_count": null,
   "metadata": {},
   "outputs": [],
   "source": []
  },
  {
   "cell_type": "markdown",
   "metadata": {
    "colab_type": "text",
    "id": "zqiJHPz7FUT2"
   },
   "source": [
    "Загрузить таблицу Happiness report. Посчитать матрицу ковариаций попарно. "
   ]
  },
  {
   "cell_type": "code",
   "execution_count": 177,
   "metadata": {
    "colab": {
     "base_uri": "https://localhost:8080/",
     "height": 238
    },
    "colab_type": "code",
    "id": "4FVMs-hUiv4i",
    "outputId": "4f8bb858-e745-4832-e05a-a40c48f8fa8a"
   },
   "outputs": [
    {
     "data": {
      "text/html": [
       "<div>\n",
       "<style scoped>\n",
       "    .dataframe tbody tr th:only-of-type {\n",
       "        vertical-align: middle;\n",
       "    }\n",
       "\n",
       "    .dataframe tbody tr th {\n",
       "        vertical-align: top;\n",
       "    }\n",
       "\n",
       "    .dataframe thead th {\n",
       "        text-align: right;\n",
       "    }\n",
       "</style>\n",
       "<table border=\"1\" class=\"dataframe\">\n",
       "  <thead>\n",
       "    <tr style=\"text-align: right;\">\n",
       "      <th></th>\n",
       "      <th>Country (region)</th>\n",
       "      <th>Ladder</th>\n",
       "      <th>SD of Ladder</th>\n",
       "      <th>Positive affect</th>\n",
       "      <th>Negative affect</th>\n",
       "      <th>Social support</th>\n",
       "      <th>Freedom</th>\n",
       "      <th>Corruption</th>\n",
       "      <th>Generosity</th>\n",
       "      <th>Log of GDP\\nper capita</th>\n",
       "      <th>Healthy life\\nexpectancy</th>\n",
       "    </tr>\n",
       "  </thead>\n",
       "  <tbody>\n",
       "    <tr>\n",
       "      <td>0</td>\n",
       "      <td>Finland</td>\n",
       "      <td>1</td>\n",
       "      <td>4</td>\n",
       "      <td>41.0</td>\n",
       "      <td>10.0</td>\n",
       "      <td>2.0</td>\n",
       "      <td>5.0</td>\n",
       "      <td>4.0</td>\n",
       "      <td>47.0</td>\n",
       "      <td>22.0</td>\n",
       "      <td>27.0</td>\n",
       "    </tr>\n",
       "    <tr>\n",
       "      <td>1</td>\n",
       "      <td>Denmark</td>\n",
       "      <td>2</td>\n",
       "      <td>13</td>\n",
       "      <td>24.0</td>\n",
       "      <td>26.0</td>\n",
       "      <td>4.0</td>\n",
       "      <td>6.0</td>\n",
       "      <td>3.0</td>\n",
       "      <td>22.0</td>\n",
       "      <td>14.0</td>\n",
       "      <td>23.0</td>\n",
       "    </tr>\n",
       "    <tr>\n",
       "      <td>2</td>\n",
       "      <td>Norway</td>\n",
       "      <td>3</td>\n",
       "      <td>8</td>\n",
       "      <td>16.0</td>\n",
       "      <td>29.0</td>\n",
       "      <td>3.0</td>\n",
       "      <td>3.0</td>\n",
       "      <td>8.0</td>\n",
       "      <td>11.0</td>\n",
       "      <td>7.0</td>\n",
       "      <td>12.0</td>\n",
       "    </tr>\n",
       "    <tr>\n",
       "      <td>3</td>\n",
       "      <td>Iceland</td>\n",
       "      <td>4</td>\n",
       "      <td>9</td>\n",
       "      <td>3.0</td>\n",
       "      <td>3.0</td>\n",
       "      <td>1.0</td>\n",
       "      <td>7.0</td>\n",
       "      <td>45.0</td>\n",
       "      <td>3.0</td>\n",
       "      <td>15.0</td>\n",
       "      <td>13.0</td>\n",
       "    </tr>\n",
       "    <tr>\n",
       "      <td>4</td>\n",
       "      <td>Netherlands</td>\n",
       "      <td>5</td>\n",
       "      <td>1</td>\n",
       "      <td>12.0</td>\n",
       "      <td>25.0</td>\n",
       "      <td>15.0</td>\n",
       "      <td>19.0</td>\n",
       "      <td>12.0</td>\n",
       "      <td>7.0</td>\n",
       "      <td>12.0</td>\n",
       "      <td>18.0</td>\n",
       "    </tr>\n",
       "  </tbody>\n",
       "</table>\n",
       "</div>"
      ],
      "text/plain": [
       "  Country (region)  Ladder  SD of Ladder  Positive affect  Negative affect  \\\n",
       "0          Finland       1             4             41.0             10.0   \n",
       "1          Denmark       2            13             24.0             26.0   \n",
       "2           Norway       3             8             16.0             29.0   \n",
       "3          Iceland       4             9              3.0              3.0   \n",
       "4      Netherlands       5             1             12.0             25.0   \n",
       "\n",
       "   Social support  Freedom  Corruption  Generosity  Log of GDP\\nper capita  \\\n",
       "0             2.0      5.0         4.0        47.0                    22.0   \n",
       "1             4.0      6.0         3.0        22.0                    14.0   \n",
       "2             3.0      3.0         8.0        11.0                     7.0   \n",
       "3             1.0      7.0        45.0         3.0                    15.0   \n",
       "4            15.0     19.0        12.0         7.0                    12.0   \n",
       "\n",
       "   Healthy life\\nexpectancy  \n",
       "0                      27.0  \n",
       "1                      23.0  \n",
       "2                      12.0  \n",
       "3                      13.0  \n",
       "4                      18.0  "
      ]
     },
     "execution_count": 177,
     "metadata": {},
     "output_type": "execute_result"
    }
   ],
   "source": [
    "url=\"http://yustiks.ru/dataset/world-happiness-report-2019.csv\"\n",
    "df=pd.read_csv(url)\n",
    "df.head()"
   ]
  },
  {
   "cell_type": "code",
   "execution_count": 172,
   "metadata": {},
   "outputs": [
    {
     "name": "stdout",
     "output_type": "stream",
     "text": [
      "<class 'pandas.core.frame.DataFrame'>\n",
      "RangeIndex: 156 entries, 0 to 155\n",
      "Data columns (total 11 columns):\n",
      "Country (region)           156 non-null object\n",
      "Ladder                     156 non-null int64\n",
      "SD of Ladder               156 non-null int64\n",
      "Positive affect            155 non-null float64\n",
      "Negative affect            155 non-null float64\n",
      "Social support             155 non-null float64\n",
      "Freedom                    155 non-null float64\n",
      "Corruption                 148 non-null float64\n",
      "Generosity                 155 non-null float64\n",
      "Log of GDP\n",
      "per capita      152 non-null float64\n",
      "Healthy life\n",
      "expectancy    150 non-null float64\n",
      "dtypes: float64(8), int64(2), object(1)\n",
      "memory usage: 13.5+ KB\n"
     ]
    }
   ],
   "source": [
    "df.info()"
   ]
  },
  {
   "cell_type": "code",
   "execution_count": 178,
   "metadata": {},
   "outputs": [
    {
     "data": {
      "text/html": [
       "<div>\n",
       "<style scoped>\n",
       "    .dataframe tbody tr th:only-of-type {\n",
       "        vertical-align: middle;\n",
       "    }\n",
       "\n",
       "    .dataframe tbody tr th {\n",
       "        vertical-align: top;\n",
       "    }\n",
       "\n",
       "    .dataframe thead th {\n",
       "        text-align: right;\n",
       "    }\n",
       "</style>\n",
       "<table border=\"1\" class=\"dataframe\">\n",
       "  <thead>\n",
       "    <tr style=\"text-align: right;\">\n",
       "      <th></th>\n",
       "      <th>Ladder</th>\n",
       "      <th>SD of Ladder</th>\n",
       "      <th>Positive affect</th>\n",
       "      <th>Negative affect</th>\n",
       "      <th>Social support</th>\n",
       "      <th>Freedom</th>\n",
       "      <th>Corruption</th>\n",
       "      <th>Generosity</th>\n",
       "      <th>Log of GDP\\nper capita</th>\n",
       "      <th>Healthy life\\nexpectancy</th>\n",
       "    </tr>\n",
       "  </thead>\n",
       "  <tbody>\n",
       "    <tr>\n",
       "      <td>Ladder</td>\n",
       "      <td>2088.550668</td>\n",
       "      <td>1171.892806</td>\n",
       "      <td>1037.040699</td>\n",
       "      <td>1097.680164</td>\n",
       "      <td>1745.007194</td>\n",
       "      <td>1126.437205</td>\n",
       "      <td>437.435971</td>\n",
       "      <td>992.822302</td>\n",
       "      <td>1625.961768</td>\n",
       "      <td>1661.550154</td>\n",
       "    </tr>\n",
       "    <tr>\n",
       "      <td>SD of Ladder</td>\n",
       "      <td>1171.892806</td>\n",
       "      <td>2127.170144</td>\n",
       "      <td>184.695683</td>\n",
       "      <td>1298.799281</td>\n",
       "      <td>1268.032374</td>\n",
       "      <td>520.631655</td>\n",
       "      <td>498.416547</td>\n",
       "      <td>796.974460</td>\n",
       "      <td>1327.720144</td>\n",
       "      <td>1293.221942</td>\n",
       "    </tr>\n",
       "    <tr>\n",
       "      <td>Positive affect</td>\n",
       "      <td>1037.040699</td>\n",
       "      <td>184.695683</td>\n",
       "      <td>1965.293114</td>\n",
       "      <td>694.321274</td>\n",
       "      <td>880.136691</td>\n",
       "      <td>1392.962795</td>\n",
       "      <td>427.188489</td>\n",
       "      <td>826.971942</td>\n",
       "      <td>597.456937</td>\n",
       "      <td>661.012436</td>\n",
       "    </tr>\n",
       "    <tr>\n",
       "      <td>Negative affect</td>\n",
       "      <td>1097.680164</td>\n",
       "      <td>1298.799281</td>\n",
       "      <td>694.321274</td>\n",
       "      <td>1980.795272</td>\n",
       "      <td>1369.014388</td>\n",
       "      <td>835.041521</td>\n",
       "      <td>316.040288</td>\n",
       "      <td>697.807914</td>\n",
       "      <td>1091.695581</td>\n",
       "      <td>992.679651</td>\n",
       "    </tr>\n",
       "    <tr>\n",
       "      <td>Social support</td>\n",
       "      <td>1745.007194</td>\n",
       "      <td>1268.032374</td>\n",
       "      <td>880.136691</td>\n",
       "      <td>1369.014388</td>\n",
       "      <td>2099.086331</td>\n",
       "      <td>989.151079</td>\n",
       "      <td>290.978417</td>\n",
       "      <td>918.334532</td>\n",
       "      <td>1592.892086</td>\n",
       "      <td>1521.895683</td>\n",
       "    </tr>\n",
       "    <tr>\n",
       "      <td>Freedom</td>\n",
       "      <td>1126.437205</td>\n",
       "      <td>520.631655</td>\n",
       "      <td>1392.962795</td>\n",
       "      <td>835.041521</td>\n",
       "      <td>989.151079</td>\n",
       "      <td>2034.819322</td>\n",
       "      <td>784.235971</td>\n",
       "      <td>1005.233094</td>\n",
       "      <td>754.765057</td>\n",
       "      <td>841.068243</td>\n",
       "    </tr>\n",
       "    <tr>\n",
       "      <td>Corruption</td>\n",
       "      <td>437.435971</td>\n",
       "      <td>498.416547</td>\n",
       "      <td>427.188489</td>\n",
       "      <td>316.040288</td>\n",
       "      <td>290.978417</td>\n",
       "      <td>784.235971</td>\n",
       "      <td>1819.535252</td>\n",
       "      <td>536.400719</td>\n",
       "      <td>344.248921</td>\n",
       "      <td>279.475540</td>\n",
       "    </tr>\n",
       "    <tr>\n",
       "      <td>Generosity</td>\n",
       "      <td>992.822302</td>\n",
       "      <td>796.974460</td>\n",
       "      <td>826.971942</td>\n",
       "      <td>697.807914</td>\n",
       "      <td>918.334532</td>\n",
       "      <td>1005.233094</td>\n",
       "      <td>536.400719</td>\n",
       "      <td>2000.574460</td>\n",
       "      <td>891.584892</td>\n",
       "      <td>891.374460</td>\n",
       "    </tr>\n",
       "    <tr>\n",
       "      <td>Log of GDP\\nper capita</td>\n",
       "      <td>1625.961768</td>\n",
       "      <td>1327.720144</td>\n",
       "      <td>597.456937</td>\n",
       "      <td>1091.695581</td>\n",
       "      <td>1592.892086</td>\n",
       "      <td>754.765057</td>\n",
       "      <td>344.248921</td>\n",
       "      <td>891.584892</td>\n",
       "      <td>1879.769579</td>\n",
       "      <td>1665.842035</td>\n",
       "    </tr>\n",
       "    <tr>\n",
       "      <td>Healthy life\\nexpectancy</td>\n",
       "      <td>1661.550154</td>\n",
       "      <td>1293.221942</td>\n",
       "      <td>661.012436</td>\n",
       "      <td>992.679651</td>\n",
       "      <td>1521.895683</td>\n",
       "      <td>841.068243</td>\n",
       "      <td>279.475540</td>\n",
       "      <td>891.374460</td>\n",
       "      <td>1665.842035</td>\n",
       "      <td>1934.236948</td>\n",
       "    </tr>\n",
       "  </tbody>\n",
       "</table>\n",
       "</div>"
      ],
      "text/plain": [
       "                               Ladder  SD of Ladder  Positive affect  \\\n",
       "Ladder                    2088.550668   1171.892806      1037.040699   \n",
       "SD of Ladder              1171.892806   2127.170144       184.695683   \n",
       "Positive affect           1037.040699    184.695683      1965.293114   \n",
       "Negative affect           1097.680164   1298.799281       694.321274   \n",
       "Social support            1745.007194   1268.032374       880.136691   \n",
       "Freedom                   1126.437205    520.631655      1392.962795   \n",
       "Corruption                 437.435971    498.416547       427.188489   \n",
       "Generosity                 992.822302    796.974460       826.971942   \n",
       "Log of GDP\\nper capita    1625.961768   1327.720144       597.456937   \n",
       "Healthy life\\nexpectancy  1661.550154   1293.221942       661.012436   \n",
       "\n",
       "                          Negative affect  Social support      Freedom  \\\n",
       "Ladder                        1097.680164     1745.007194  1126.437205   \n",
       "SD of Ladder                  1298.799281     1268.032374   520.631655   \n",
       "Positive affect                694.321274      880.136691  1392.962795   \n",
       "Negative affect               1980.795272     1369.014388   835.041521   \n",
       "Social support                1369.014388     2099.086331   989.151079   \n",
       "Freedom                        835.041521      989.151079  2034.819322   \n",
       "Corruption                     316.040288      290.978417   784.235971   \n",
       "Generosity                     697.807914      918.334532  1005.233094   \n",
       "Log of GDP\\nper capita        1091.695581     1592.892086   754.765057   \n",
       "Healthy life\\nexpectancy       992.679651     1521.895683   841.068243   \n",
       "\n",
       "                           Corruption   Generosity  Log of GDP\\nper capita  \\\n",
       "Ladder                     437.435971   992.822302             1625.961768   \n",
       "SD of Ladder               498.416547   796.974460             1327.720144   \n",
       "Positive affect            427.188489   826.971942              597.456937   \n",
       "Negative affect            316.040288   697.807914             1091.695581   \n",
       "Social support             290.978417   918.334532             1592.892086   \n",
       "Freedom                    784.235971  1005.233094              754.765057   \n",
       "Corruption                1819.535252   536.400719              344.248921   \n",
       "Generosity                 536.400719  2000.574460              891.584892   \n",
       "Log of GDP\\nper capita     344.248921   891.584892             1879.769579   \n",
       "Healthy life\\nexpectancy   279.475540   891.374460             1665.842035   \n",
       "\n",
       "                          Healthy life\\nexpectancy  \n",
       "Ladder                                 1661.550154  \n",
       "SD of Ladder                           1293.221942  \n",
       "Positive affect                         661.012436  \n",
       "Negative affect                         992.679651  \n",
       "Social support                         1521.895683  \n",
       "Freedom                                 841.068243  \n",
       "Corruption                              279.475540  \n",
       "Generosity                              891.374460  \n",
       "Log of GDP\\nper capita                 1665.842035  \n",
       "Healthy life\\nexpectancy               1934.236948  "
      ]
     },
     "execution_count": 178,
     "metadata": {},
     "output_type": "execute_result"
    }
   ],
   "source": [
    "df_nn = df.dropna()\n",
    "df_nn.cov()"
   ]
  },
  {
   "cell_type": "code",
   "execution_count": 179,
   "metadata": {},
   "outputs": [
    {
     "name": "stdout",
     "output_type": "stream",
     "text": [
      "<class 'pandas.core.frame.DataFrame'>\n",
      "Int64Index: 140 entries, 0 to 155\n",
      "Data columns (total 11 columns):\n",
      "Country (region)           140 non-null object\n",
      "Ladder                     140 non-null int64\n",
      "SD of Ladder               140 non-null int64\n",
      "Positive affect            140 non-null float64\n",
      "Negative affect            140 non-null float64\n",
      "Social support             140 non-null float64\n",
      "Freedom                    140 non-null float64\n",
      "Corruption                 140 non-null float64\n",
      "Generosity                 140 non-null float64\n",
      "Log of GDP\n",
      "per capita      140 non-null float64\n",
      "Healthy life\n",
      "expectancy    140 non-null float64\n",
      "dtypes: float64(8), int64(2), object(1)\n",
      "memory usage: 13.1+ KB\n"
     ]
    }
   ],
   "source": [
    "df_nn.info()"
   ]
  },
  {
   "cell_type": "code",
   "execution_count": 181,
   "metadata": {},
   "outputs": [
    {
     "data": {
      "text/html": [
       "<div>\n",
       "<style scoped>\n",
       "    .dataframe tbody tr th:only-of-type {\n",
       "        vertical-align: middle;\n",
       "    }\n",
       "\n",
       "    .dataframe tbody tr th {\n",
       "        vertical-align: top;\n",
       "    }\n",
       "\n",
       "    .dataframe thead th {\n",
       "        text-align: right;\n",
       "    }\n",
       "</style>\n",
       "<table border=\"1\" class=\"dataframe\">\n",
       "  <thead>\n",
       "    <tr style=\"text-align: right;\">\n",
       "      <th></th>\n",
       "      <th>Ladder</th>\n",
       "      <th>Healthy life\\nexpectancy</th>\n",
       "    </tr>\n",
       "  </thead>\n",
       "  <tbody>\n",
       "    <tr>\n",
       "      <td>Ladder</td>\n",
       "      <td>2088.550668</td>\n",
       "      <td>1661.550154</td>\n",
       "    </tr>\n",
       "    <tr>\n",
       "      <td>Healthy life\\nexpectancy</td>\n",
       "      <td>1661.550154</td>\n",
       "      <td>1934.236948</td>\n",
       "    </tr>\n",
       "  </tbody>\n",
       "</table>\n",
       "</div>"
      ],
      "text/plain": [
       "                               Ladder  Healthy life\\nexpectancy\n",
       "Ladder                    2088.550668               1661.550154\n",
       "Healthy life\\nexpectancy  1661.550154               1934.236948"
      ]
     },
     "execution_count": 181,
     "metadata": {},
     "output_type": "execute_result"
    }
   ],
   "source": [
    "df_nn[['Ladder', 'Healthy life\\nexpectancy']].cov()"
   ]
  },
  {
   "cell_type": "markdown",
   "metadata": {
    "colab_type": "text",
    "id": "AEV-w8iDrzwl"
   },
   "source": [
    "Сколько в данной таблице отсутствующих значений? Написать ответ. Если есть отсутствующие значения в выборке country, убрать (drop)."
   ]
  },
  {
   "cell_type": "code",
   "execution_count": 182,
   "metadata": {},
   "outputs": [
    {
     "name": "stdout",
     "output_type": "stream",
     "text": [
      "<class 'pandas.core.frame.DataFrame'>\n",
      "RangeIndex: 156 entries, 0 to 155\n",
      "Data columns (total 11 columns):\n",
      "Country (region)           156 non-null object\n",
      "Ladder                     156 non-null int64\n",
      "SD of Ladder               156 non-null int64\n",
      "Positive affect            155 non-null float64\n",
      "Negative affect            155 non-null float64\n",
      "Social support             155 non-null float64\n",
      "Freedom                    155 non-null float64\n",
      "Corruption                 148 non-null float64\n",
      "Generosity                 155 non-null float64\n",
      "Log of GDP\n",
      "per capita      152 non-null float64\n",
      "Healthy life\n",
      "expectancy    150 non-null float64\n",
      "dtypes: float64(8), int64(2), object(1)\n",
      "memory usage: 13.5+ KB\n"
     ]
    }
   ],
   "source": [
    "# по одному значению в колонках Possitive affect, Negative affect, Social support, Freedom, Generosity,\n",
    "# 8 в колонке Corruption, 4 - Log of GDP per capita, 6 - Healthy life expectancy \n",
    "df.info()"
   ]
  },
  {
   "cell_type": "markdown",
   "metadata": {
    "colab_type": "text",
    "id": "Sa3-2X8RputT"
   },
   "source": [
    "Сколько стран в выборке? Написать ответ. "
   ]
  },
  {
   "cell_type": "code",
   "execution_count": 157,
   "metadata": {},
   "outputs": [
    {
     "data": {
      "text/plain": [
       "156"
      ]
     },
     "execution_count": 157,
     "metadata": {},
     "output_type": "execute_result"
    }
   ],
   "source": [
    "len(df['Country (region)'])"
   ]
  },
  {
   "cell_type": "markdown",
   "metadata": {
    "colab_type": "text",
    "id": "Xo3Q738TsMBV"
   },
   "source": [
    "Построить матрицу корреляций для таблицы. Какие можно сделать выводы?"
   ]
  },
  {
   "cell_type": "code",
   "execution_count": 184,
   "metadata": {},
   "outputs": [
    {
     "data": {
      "text/html": [
       "<style  type=\"text/css\" >\n",
       "    #T_bc2542de_5089_11ea_aa8d_80e6501c9e3erow0_col0 {\n",
       "            background-color:  #00441b;\n",
       "            color:  #f1f1f1;\n",
       "        }    #T_bc2542de_5089_11ea_aa8d_80e6501c9e3erow0_col1 {\n",
       "            background-color:  #62c09f;\n",
       "            color:  #000000;\n",
       "        }    #T_bc2542de_5089_11ea_aa8d_80e6501c9e3erow0_col2 {\n",
       "            background-color:  #75c9af;\n",
       "            color:  #000000;\n",
       "        }    #T_bc2542de_5089_11ea_aa8d_80e6501c9e3erow0_col3 {\n",
       "            background-color:  #7ccbb4;\n",
       "            color:  #000000;\n",
       "        }    #T_bc2542de_5089_11ea_aa8d_80e6501c9e3erow0_col4 {\n",
       "            background-color:  #147e3a;\n",
       "            color:  #f1f1f1;\n",
       "        }    #T_bc2542de_5089_11ea_aa8d_80e6501c9e3erow0_col5 {\n",
       "            background-color:  #90d4c3;\n",
       "            color:  #000000;\n",
       "        }    #T_bc2542de_5089_11ea_aa8d_80e6501c9e3erow0_col6 {\n",
       "            background-color:  #ebf7fa;\n",
       "            color:  #000000;\n",
       "        }    #T_bc2542de_5089_11ea_aa8d_80e6501c9e3erow0_col7 {\n",
       "            background-color:  #bfe7de;\n",
       "            color:  #000000;\n",
       "        }    #T_bc2542de_5089_11ea_aa8d_80e6501c9e3erow0_col8 {\n",
       "            background-color:  #1a843f;\n",
       "            color:  #000000;\n",
       "        }    #T_bc2542de_5089_11ea_aa8d_80e6501c9e3erow0_col9 {\n",
       "            background-color:  #16803c;\n",
       "            color:  #f1f1f1;\n",
       "        }    #T_bc2542de_5089_11ea_aa8d_80e6501c9e3erow1_col0 {\n",
       "            background-color:  #84cfb9;\n",
       "            color:  #000000;\n",
       "        }    #T_bc2542de_5089_11ea_aa8d_80e6501c9e3erow1_col1 {\n",
       "            background-color:  #00441b;\n",
       "            color:  #f1f1f1;\n",
       "        }    #T_bc2542de_5089_11ea_aa8d_80e6501c9e3erow1_col2 {\n",
       "            background-color:  #f7fcfd;\n",
       "            color:  #000000;\n",
       "        }    #T_bc2542de_5089_11ea_aa8d_80e6501c9e3erow1_col3 {\n",
       "            background-color:  #54b88e;\n",
       "            color:  #000000;\n",
       "        }    #T_bc2542de_5089_11ea_aa8d_80e6501c9e3erow1_col4 {\n",
       "            background-color:  #5dbd99;\n",
       "            color:  #000000;\n",
       "        }    #T_bc2542de_5089_11ea_aa8d_80e6501c9e3erow1_col5 {\n",
       "            background-color:  #f7fcfd;\n",
       "            color:  #000000;\n",
       "        }    #T_bc2542de_5089_11ea_aa8d_80e6501c9e3erow1_col6 {\n",
       "            background-color:  #e5f5f9;\n",
       "            color:  #000000;\n",
       "        }    #T_bc2542de_5089_11ea_aa8d_80e6501c9e3erow1_col7 {\n",
       "            background-color:  #e1f4f6;\n",
       "            color:  #000000;\n",
       "        }    #T_bc2542de_5089_11ea_aa8d_80e6501c9e3erow1_col8 {\n",
       "            background-color:  #4cb484;\n",
       "            color:  #000000;\n",
       "        }    #T_bc2542de_5089_11ea_aa8d_80e6501c9e3erow1_col9 {\n",
       "            background-color:  #51b689;\n",
       "            color:  #000000;\n",
       "        }    #T_bc2542de_5089_11ea_aa8d_80e6501c9e3erow2_col0 {\n",
       "            background-color:  #9cd9ca;\n",
       "            color:  #000000;\n",
       "        }    #T_bc2542de_5089_11ea_aa8d_80e6501c9e3erow2_col1 {\n",
       "            background-color:  #f7fcfd;\n",
       "            color:  #000000;\n",
       "        }    #T_bc2542de_5089_11ea_aa8d_80e6501c9e3erow2_col2 {\n",
       "            background-color:  #00441b;\n",
       "            color:  #f1f1f1;\n",
       "        }    #T_bc2542de_5089_11ea_aa8d_80e6501c9e3erow2_col3 {\n",
       "            background-color:  #d2eeeb;\n",
       "            color:  #000000;\n",
       "        }    #T_bc2542de_5089_11ea_aa8d_80e6501c9e3erow2_col4 {\n",
       "            background-color:  #aadfd3;\n",
       "            color:  #000000;\n",
       "        }    #T_bc2542de_5089_11ea_aa8d_80e6501c9e3erow2_col5 {\n",
       "            background-color:  #4ab381;\n",
       "            color:  #000000;\n",
       "        }    #T_bc2542de_5089_11ea_aa8d_80e6501c9e3erow2_col6 {\n",
       "            background-color:  #eaf7fa;\n",
       "            color:  #000000;\n",
       "        }    #T_bc2542de_5089_11ea_aa8d_80e6501c9e3erow2_col7 {\n",
       "            background-color:  #d8f0ef;\n",
       "            color:  #000000;\n",
       "        }    #T_bc2542de_5089_11ea_aa8d_80e6501c9e3erow2_col8 {\n",
       "            background-color:  #dff3f5;\n",
       "            color:  #000000;\n",
       "        }    #T_bc2542de_5089_11ea_aa8d_80e6501c9e3erow2_col9 {\n",
       "            background-color:  #d1eeea;\n",
       "            color:  #000000;\n",
       "        }    #T_bc2542de_5089_11ea_aa8d_80e6501c9e3erow3_col0 {\n",
       "            background-color:  #8cd2bf;\n",
       "            color:  #000000;\n",
       "        }    #T_bc2542de_5089_11ea_aa8d_80e6501c9e3erow3_col1 {\n",
       "            background-color:  #4ab381;\n",
       "            color:  #000000;\n",
       "        }    #T_bc2542de_5089_11ea_aa8d_80e6501c9e3erow3_col2 {\n",
       "            background-color:  #bde6de;\n",
       "            color:  #000000;\n",
       "        }    #T_bc2542de_5089_11ea_aa8d_80e6501c9e3erow3_col3 {\n",
       "            background-color:  #00441b;\n",
       "            color:  #f1f1f1;\n",
       "        }    #T_bc2542de_5089_11ea_aa8d_80e6501c9e3erow3_col4 {\n",
       "            background-color:  #44af79;\n",
       "            color:  #000000;\n",
       "        }    #T_bc2542de_5089_11ea_aa8d_80e6501c9e3erow3_col5 {\n",
       "            background-color:  #d2eeeb;\n",
       "            color:  #000000;\n",
       "        }    #T_bc2542de_5089_11ea_aa8d_80e6501c9e3erow3_col6 {\n",
       "            background-color:  #f4fbfc;\n",
       "            color:  #000000;\n",
       "        }    #T_bc2542de_5089_11ea_aa8d_80e6501c9e3erow3_col7 {\n",
       "            background-color:  #e9f7fa;\n",
       "            color:  #000000;\n",
       "        }    #T_bc2542de_5089_11ea_aa8d_80e6501c9e3erow3_col8 {\n",
       "            background-color:  #74c8ae;\n",
       "            color:  #000000;\n",
       "        }    #T_bc2542de_5089_11ea_aa8d_80e6501c9e3erow3_col9 {\n",
       "            background-color:  #87d0bc;\n",
       "            color:  #000000;\n",
       "        }    #T_bc2542de_5089_11ea_aa8d_80e6501c9e3erow4_col0 {\n",
       "            background-color:  #18823d;\n",
       "            color:  #f1f1f1;\n",
       "        }    #T_bc2542de_5089_11ea_aa8d_80e6501c9e3erow4_col1 {\n",
       "            background-color:  #54b88e;\n",
       "            color:  #000000;\n",
       "        }    #T_bc2542de_5089_11ea_aa8d_80e6501c9e3erow4_col2 {\n",
       "            background-color:  #98d8c9;\n",
       "            color:  #000000;\n",
       "        }    #T_bc2542de_5089_11ea_aa8d_80e6501c9e3erow4_col3 {\n",
       "            background-color:  #46b17c;\n",
       "            color:  #000000;\n",
       "        }    #T_bc2542de_5089_11ea_aa8d_80e6501c9e3erow4_col4 {\n",
       "            background-color:  #00441b;\n",
       "            color:  #f1f1f1;\n",
       "        }    #T_bc2542de_5089_11ea_aa8d_80e6501c9e3erow4_col5 {\n",
       "            background-color:  #b7e4da;\n",
       "            color:  #000000;\n",
       "        }    #T_bc2542de_5089_11ea_aa8d_80e6501c9e3erow4_col6 {\n",
       "            background-color:  #f7fcfd;\n",
       "            color:  #000000;\n",
       "        }    #T_bc2542de_5089_11ea_aa8d_80e6501c9e3erow4_col7 {\n",
       "            background-color:  #d0ede9;\n",
       "            color:  #000000;\n",
       "        }    #T_bc2542de_5089_11ea_aa8d_80e6501c9e3erow4_col8 {\n",
       "            background-color:  #218944;\n",
       "            color:  #000000;\n",
       "        }    #T_bc2542de_5089_11ea_aa8d_80e6501c9e3erow4_col9 {\n",
       "            background-color:  #2c9553;\n",
       "            color:  #000000;\n",
       "        }    #T_bc2542de_5089_11ea_aa8d_80e6501c9e3erow5_col0 {\n",
       "            background-color:  #88d1bd;\n",
       "            color:  #000000;\n",
       "        }    #T_bc2542de_5089_11ea_aa8d_80e6501c9e3erow5_col1 {\n",
       "            background-color:  #dbf1f1;\n",
       "            color:  #000000;\n",
       "        }    #T_bc2542de_5089_11ea_aa8d_80e6501c9e3erow5_col2 {\n",
       "            background-color:  #37a266;\n",
       "            color:  #000000;\n",
       "        }    #T_bc2542de_5089_11ea_aa8d_80e6501c9e3erow5_col3 {\n",
       "            background-color:  #b8e4db;\n",
       "            color:  #000000;\n",
       "        }    #T_bc2542de_5089_11ea_aa8d_80e6501c9e3erow5_col4 {\n",
       "            background-color:  #94d6c5;\n",
       "            color:  #000000;\n",
       "        }    #T_bc2542de_5089_11ea_aa8d_80e6501c9e3erow5_col5 {\n",
       "            background-color:  #00441b;\n",
       "            color:  #f1f1f1;\n",
       "        }    #T_bc2542de_5089_11ea_aa8d_80e6501c9e3erow5_col6 {\n",
       "            background-color:  #b7e4da;\n",
       "            color:  #000000;\n",
       "        }    #T_bc2542de_5089_11ea_aa8d_80e6501c9e3erow5_col7 {\n",
       "            background-color:  #b7e4da;\n",
       "            color:  #000000;\n",
       "        }    #T_bc2542de_5089_11ea_aa8d_80e6501c9e3erow5_col8 {\n",
       "            background-color:  #cdece7;\n",
       "            color:  #000000;\n",
       "        }    #T_bc2542de_5089_11ea_aa8d_80e6501c9e3erow5_col9 {\n",
       "            background-color:  #afe1d5;\n",
       "            color:  #000000;\n",
       "        }    #T_bc2542de_5089_11ea_aa8d_80e6501c9e3erow6_col0 {\n",
       "            background-color:  #f7fcfd;\n",
       "            color:  #000000;\n",
       "        }    #T_bc2542de_5089_11ea_aa8d_80e6501c9e3erow6_col1 {\n",
       "            background-color:  #dbf1f1;\n",
       "            color:  #000000;\n",
       "        }    #T_bc2542de_5089_11ea_aa8d_80e6501c9e3erow6_col2 {\n",
       "            background-color:  #e0f3f5;\n",
       "            color:  #000000;\n",
       "        }    #T_bc2542de_5089_11ea_aa8d_80e6501c9e3erow6_col3 {\n",
       "            background-color:  #f7fcfd;\n",
       "            color:  #000000;\n",
       "        }    #T_bc2542de_5089_11ea_aa8d_80e6501c9e3erow6_col4 {\n",
       "            background-color:  #f7fcfd;\n",
       "            color:  #000000;\n",
       "        }    #T_bc2542de_5089_11ea_aa8d_80e6501c9e3erow6_col5 {\n",
       "            background-color:  #d4efec;\n",
       "            color:  #000000;\n",
       "        }    #T_bc2542de_5089_11ea_aa8d_80e6501c9e3erow6_col6 {\n",
       "            background-color:  #00441b;\n",
       "            color:  #f1f1f1;\n",
       "        }    #T_bc2542de_5089_11ea_aa8d_80e6501c9e3erow6_col7 {\n",
       "            background-color:  #f7fcfd;\n",
       "            color:  #000000;\n",
       "        }    #T_bc2542de_5089_11ea_aa8d_80e6501c9e3erow6_col8 {\n",
       "            background-color:  #f7fcfd;\n",
       "            color:  #000000;\n",
       "        }    #T_bc2542de_5089_11ea_aa8d_80e6501c9e3erow6_col9 {\n",
       "            background-color:  #f7fcfd;\n",
       "            color:  #000000;\n",
       "        }    #T_bc2542de_5089_11ea_aa8d_80e6501c9e3erow7_col0 {\n",
       "            background-color:  #a8ded2;\n",
       "            color:  #000000;\n",
       "        }    #T_bc2542de_5089_11ea_aa8d_80e6501c9e3erow7_col1 {\n",
       "            background-color:  #ade0d4;\n",
       "            color:  #000000;\n",
       "        }    #T_bc2542de_5089_11ea_aa8d_80e6501c9e3erow7_col2 {\n",
       "            background-color:  #a0dbcd;\n",
       "            color:  #000000;\n",
       "        }    #T_bc2542de_5089_11ea_aa8d_80e6501c9e3erow7_col3 {\n",
       "            background-color:  #d2eeeb;\n",
       "            color:  #000000;\n",
       "        }    #T_bc2542de_5089_11ea_aa8d_80e6501c9e3erow7_col4 {\n",
       "            background-color:  #a2dcce;\n",
       "            color:  #000000;\n",
       "        }    #T_bc2542de_5089_11ea_aa8d_80e6501c9e3erow7_col5 {\n",
       "            background-color:  #acdfd4;\n",
       "            color:  #000000;\n",
       "        }    #T_bc2542de_5089_11ea_aa8d_80e6501c9e3erow7_col6 {\n",
       "            background-color:  #dff3f5;\n",
       "            color:  #000000;\n",
       "        }    #T_bc2542de_5089_11ea_aa8d_80e6501c9e3erow7_col7 {\n",
       "            background-color:  #00441b;\n",
       "            color:  #f1f1f1;\n",
       "        }    #T_bc2542de_5089_11ea_aa8d_80e6501c9e3erow7_col8 {\n",
       "            background-color:  #a8ded2;\n",
       "            color:  #000000;\n",
       "        }    #T_bc2542de_5089_11ea_aa8d_80e6501c9e3erow7_col9 {\n",
       "            background-color:  #a0dbcd;\n",
       "            color:  #000000;\n",
       "        }    #T_bc2542de_5089_11ea_aa8d_80e6501c9e3erow8_col0 {\n",
       "            background-color:  #1e8741;\n",
       "            color:  #000000;\n",
       "        }    #T_bc2542de_5089_11ea_aa8d_80e6501c9e3erow8_col1 {\n",
       "            background-color:  #3fac74;\n",
       "            color:  #000000;\n",
       "        }    #T_bc2542de_5089_11ea_aa8d_80e6501c9e3erow8_col2 {\n",
       "            background-color:  #cdece7;\n",
       "            color:  #000000;\n",
       "        }    #T_bc2542de_5089_11ea_aa8d_80e6501c9e3erow8_col3 {\n",
       "            background-color:  #6fc6aa;\n",
       "            color:  #000000;\n",
       "        }    #T_bc2542de_5089_11ea_aa8d_80e6501c9e3erow8_col4 {\n",
       "            background-color:  #1e8741;\n",
       "            color:  #000000;\n",
       "        }    #T_bc2542de_5089_11ea_aa8d_80e6501c9e3erow8_col5 {\n",
       "            background-color:  #daf1f1;\n",
       "            color:  #000000;\n",
       "        }    #T_bc2542de_5089_11ea_aa8d_80e6501c9e3erow8_col6 {\n",
       "            background-color:  #f1fafc;\n",
       "            color:  #000000;\n",
       "        }    #T_bc2542de_5089_11ea_aa8d_80e6501c9e3erow8_col7 {\n",
       "            background-color:  #cdece6;\n",
       "            color:  #000000;\n",
       "        }    #T_bc2542de_5089_11ea_aa8d_80e6501c9e3erow8_col8 {\n",
       "            background-color:  #00441b;\n",
       "            color:  #f1f1f1;\n",
       "        }    #T_bc2542de_5089_11ea_aa8d_80e6501c9e3erow8_col9 {\n",
       "            background-color:  #077331;\n",
       "            color:  #f1f1f1;\n",
       "        }    #T_bc2542de_5089_11ea_aa8d_80e6501c9e3erow9_col0 {\n",
       "            background-color:  #1c8540;\n",
       "            color:  #000000;\n",
       "        }    #T_bc2542de_5089_11ea_aa8d_80e6501c9e3erow9_col1 {\n",
       "            background-color:  #47b17e;\n",
       "            color:  #000000;\n",
       "        }    #T_bc2542de_5089_11ea_aa8d_80e6501c9e3erow9_col2 {\n",
       "            background-color:  #c4e9e1;\n",
       "            color:  #000000;\n",
       "        }    #T_bc2542de_5089_11ea_aa8d_80e6501c9e3erow9_col3 {\n",
       "            background-color:  #8cd2bf;\n",
       "            color:  #000000;\n",
       "        }    #T_bc2542de_5089_11ea_aa8d_80e6501c9e3erow9_col4 {\n",
       "            background-color:  #2c9553;\n",
       "            color:  #000000;\n",
       "        }    #T_bc2542de_5089_11ea_aa8d_80e6501c9e3erow9_col5 {\n",
       "            background-color:  #d0ede9;\n",
       "            color:  #000000;\n",
       "        }    #T_bc2542de_5089_11ea_aa8d_80e6501c9e3erow9_col6 {\n",
       "            background-color:  #f7fcfd;\n",
       "            color:  #000000;\n",
       "        }    #T_bc2542de_5089_11ea_aa8d_80e6501c9e3erow9_col7 {\n",
       "            background-color:  #ceede8;\n",
       "            color:  #000000;\n",
       "        }    #T_bc2542de_5089_11ea_aa8d_80e6501c9e3erow9_col8 {\n",
       "            background-color:  #087432;\n",
       "            color:  #f1f1f1;\n",
       "        }    #T_bc2542de_5089_11ea_aa8d_80e6501c9e3erow9_col9 {\n",
       "            background-color:  #00441b;\n",
       "            color:  #f1f1f1;\n",
       "        }</style><table id=\"T_bc2542de_5089_11ea_aa8d_80e6501c9e3e\" ><thead>    <tr>        <th class=\"blank level0\" ></th>        <th class=\"col_heading level0 col0\" >Ladder</th>        <th class=\"col_heading level0 col1\" >SD of Ladder</th>        <th class=\"col_heading level0 col2\" >Positive affect</th>        <th class=\"col_heading level0 col3\" >Negative affect</th>        <th class=\"col_heading level0 col4\" >Social support</th>        <th class=\"col_heading level0 col5\" >Freedom</th>        <th class=\"col_heading level0 col6\" >Corruption</th>        <th class=\"col_heading level0 col7\" >Generosity</th>        <th class=\"col_heading level0 col8\" >Log of GDP\n",
       "per capita</th>        <th class=\"col_heading level0 col9\" >Healthy life\n",
       "expectancy</th>    </tr></thead><tbody>\n",
       "                <tr>\n",
       "                        <th id=\"T_bc2542de_5089_11ea_aa8d_80e6501c9e3elevel0_row0\" class=\"row_heading level0 row0\" >Ladder</th>\n",
       "                        <td id=\"T_bc2542de_5089_11ea_aa8d_80e6501c9e3erow0_col0\" class=\"data row0 col0\" >1</td>\n",
       "                        <td id=\"T_bc2542de_5089_11ea_aa8d_80e6501c9e3erow0_col1\" class=\"data row0 col1\" >0.56</td>\n",
       "                        <td id=\"T_bc2542de_5089_11ea_aa8d_80e6501c9e3erow0_col2\" class=\"data row0 col2\" >0.51</td>\n",
       "                        <td id=\"T_bc2542de_5089_11ea_aa8d_80e6501c9e3erow0_col3\" class=\"data row0 col3\" >0.54</td>\n",
       "                        <td id=\"T_bc2542de_5089_11ea_aa8d_80e6501c9e3erow0_col4\" class=\"data row0 col4\" >0.83</td>\n",
       "                        <td id=\"T_bc2542de_5089_11ea_aa8d_80e6501c9e3erow0_col5\" class=\"data row0 col5\" >0.55</td>\n",
       "                        <td id=\"T_bc2542de_5089_11ea_aa8d_80e6501c9e3erow0_col6\" class=\"data row0 col6\" >0.22</td>\n",
       "                        <td id=\"T_bc2542de_5089_11ea_aa8d_80e6501c9e3erow0_col7\" class=\"data row0 col7\" >0.49</td>\n",
       "                        <td id=\"T_bc2542de_5089_11ea_aa8d_80e6501c9e3erow0_col8\" class=\"data row0 col8\" >0.82</td>\n",
       "                        <td id=\"T_bc2542de_5089_11ea_aa8d_80e6501c9e3erow0_col9\" class=\"data row0 col9\" >0.83</td>\n",
       "            </tr>\n",
       "            <tr>\n",
       "                        <th id=\"T_bc2542de_5089_11ea_aa8d_80e6501c9e3elevel0_row1\" class=\"row_heading level0 row1\" >SD of Ladder</th>\n",
       "                        <td id=\"T_bc2542de_5089_11ea_aa8d_80e6501c9e3erow1_col0\" class=\"data row1 col0\" >0.56</td>\n",
       "                        <td id=\"T_bc2542de_5089_11ea_aa8d_80e6501c9e3erow1_col1\" class=\"data row1 col1\" >1</td>\n",
       "                        <td id=\"T_bc2542de_5089_11ea_aa8d_80e6501c9e3erow1_col2\" class=\"data row1 col2\" >0.09</td>\n",
       "                        <td id=\"T_bc2542de_5089_11ea_aa8d_80e6501c9e3erow1_col3\" class=\"data row1 col3\" >0.63</td>\n",
       "                        <td id=\"T_bc2542de_5089_11ea_aa8d_80e6501c9e3erow1_col4\" class=\"data row1 col4\" >0.6</td>\n",
       "                        <td id=\"T_bc2542de_5089_11ea_aa8d_80e6501c9e3erow1_col5\" class=\"data row1 col5\" >0.25</td>\n",
       "                        <td id=\"T_bc2542de_5089_11ea_aa8d_80e6501c9e3erow1_col6\" class=\"data row1 col6\" >0.25</td>\n",
       "                        <td id=\"T_bc2542de_5089_11ea_aa8d_80e6501c9e3erow1_col7\" class=\"data row1 col7\" >0.39</td>\n",
       "                        <td id=\"T_bc2542de_5089_11ea_aa8d_80e6501c9e3erow1_col8\" class=\"data row1 col8\" >0.66</td>\n",
       "                        <td id=\"T_bc2542de_5089_11ea_aa8d_80e6501c9e3erow1_col9\" class=\"data row1 col9\" >0.64</td>\n",
       "            </tr>\n",
       "            <tr>\n",
       "                        <th id=\"T_bc2542de_5089_11ea_aa8d_80e6501c9e3elevel0_row2\" class=\"row_heading level0 row2\" >Positive affect</th>\n",
       "                        <td id=\"T_bc2542de_5089_11ea_aa8d_80e6501c9e3erow2_col0\" class=\"data row2 col0\" >0.51</td>\n",
       "                        <td id=\"T_bc2542de_5089_11ea_aa8d_80e6501c9e3erow2_col1\" class=\"data row2 col1\" >0.09</td>\n",
       "                        <td id=\"T_bc2542de_5089_11ea_aa8d_80e6501c9e3erow2_col2\" class=\"data row2 col2\" >1</td>\n",
       "                        <td id=\"T_bc2542de_5089_11ea_aa8d_80e6501c9e3erow2_col3\" class=\"data row2 col3\" >0.35</td>\n",
       "                        <td id=\"T_bc2542de_5089_11ea_aa8d_80e6501c9e3erow2_col4\" class=\"data row2 col4\" >0.43</td>\n",
       "                        <td id=\"T_bc2542de_5089_11ea_aa8d_80e6501c9e3erow2_col5\" class=\"data row2 col5\" >0.7</td>\n",
       "                        <td id=\"T_bc2542de_5089_11ea_aa8d_80e6501c9e3erow2_col6\" class=\"data row2 col6\" >0.23</td>\n",
       "                        <td id=\"T_bc2542de_5089_11ea_aa8d_80e6501c9e3erow2_col7\" class=\"data row2 col7\" >0.42</td>\n",
       "                        <td id=\"T_bc2542de_5089_11ea_aa8d_80e6501c9e3erow2_col8\" class=\"data row2 col8\" >0.31</td>\n",
       "                        <td id=\"T_bc2542de_5089_11ea_aa8d_80e6501c9e3erow2_col9\" class=\"data row2 col9\" >0.34</td>\n",
       "            </tr>\n",
       "            <tr>\n",
       "                        <th id=\"T_bc2542de_5089_11ea_aa8d_80e6501c9e3elevel0_row3\" class=\"row_heading level0 row3\" >Negative affect</th>\n",
       "                        <td id=\"T_bc2542de_5089_11ea_aa8d_80e6501c9e3erow3_col0\" class=\"data row3 col0\" >0.54</td>\n",
       "                        <td id=\"T_bc2542de_5089_11ea_aa8d_80e6501c9e3erow3_col1\" class=\"data row3 col1\" >0.63</td>\n",
       "                        <td id=\"T_bc2542de_5089_11ea_aa8d_80e6501c9e3erow3_col2\" class=\"data row3 col2\" >0.35</td>\n",
       "                        <td id=\"T_bc2542de_5089_11ea_aa8d_80e6501c9e3erow3_col3\" class=\"data row3 col3\" >1</td>\n",
       "                        <td id=\"T_bc2542de_5089_11ea_aa8d_80e6501c9e3erow3_col4\" class=\"data row3 col4\" >0.67</td>\n",
       "                        <td id=\"T_bc2542de_5089_11ea_aa8d_80e6501c9e3erow3_col5\" class=\"data row3 col5\" >0.42</td>\n",
       "                        <td id=\"T_bc2542de_5089_11ea_aa8d_80e6501c9e3erow3_col6\" class=\"data row3 col6\" >0.17</td>\n",
       "                        <td id=\"T_bc2542de_5089_11ea_aa8d_80e6501c9e3erow3_col7\" class=\"data row3 col7\" >0.35</td>\n",
       "                        <td id=\"T_bc2542de_5089_11ea_aa8d_80e6501c9e3erow3_col8\" class=\"data row3 col8\" >0.57</td>\n",
       "                        <td id=\"T_bc2542de_5089_11ea_aa8d_80e6501c9e3erow3_col9\" class=\"data row3 col9\" >0.51</td>\n",
       "            </tr>\n",
       "            <tr>\n",
       "                        <th id=\"T_bc2542de_5089_11ea_aa8d_80e6501c9e3elevel0_row4\" class=\"row_heading level0 row4\" >Social support</th>\n",
       "                        <td id=\"T_bc2542de_5089_11ea_aa8d_80e6501c9e3erow4_col0\" class=\"data row4 col0\" >0.83</td>\n",
       "                        <td id=\"T_bc2542de_5089_11ea_aa8d_80e6501c9e3erow4_col1\" class=\"data row4 col1\" >0.6</td>\n",
       "                        <td id=\"T_bc2542de_5089_11ea_aa8d_80e6501c9e3erow4_col2\" class=\"data row4 col2\" >0.43</td>\n",
       "                        <td id=\"T_bc2542de_5089_11ea_aa8d_80e6501c9e3erow4_col3\" class=\"data row4 col3\" >0.67</td>\n",
       "                        <td id=\"T_bc2542de_5089_11ea_aa8d_80e6501c9e3erow4_col4\" class=\"data row4 col4\" >1</td>\n",
       "                        <td id=\"T_bc2542de_5089_11ea_aa8d_80e6501c9e3erow4_col5\" class=\"data row4 col5\" >0.48</td>\n",
       "                        <td id=\"T_bc2542de_5089_11ea_aa8d_80e6501c9e3erow4_col6\" class=\"data row4 col6\" >0.15</td>\n",
       "                        <td id=\"T_bc2542de_5089_11ea_aa8d_80e6501c9e3erow4_col7\" class=\"data row4 col7\" >0.45</td>\n",
       "                        <td id=\"T_bc2542de_5089_11ea_aa8d_80e6501c9e3erow4_col8\" class=\"data row4 col8\" >0.8</td>\n",
       "                        <td id=\"T_bc2542de_5089_11ea_aa8d_80e6501c9e3erow4_col9\" class=\"data row4 col9\" >0.76</td>\n",
       "            </tr>\n",
       "            <tr>\n",
       "                        <th id=\"T_bc2542de_5089_11ea_aa8d_80e6501c9e3elevel0_row5\" class=\"row_heading level0 row5\" >Freedom</th>\n",
       "                        <td id=\"T_bc2542de_5089_11ea_aa8d_80e6501c9e3erow5_col0\" class=\"data row5 col0\" >0.55</td>\n",
       "                        <td id=\"T_bc2542de_5089_11ea_aa8d_80e6501c9e3erow5_col1\" class=\"data row5 col1\" >0.25</td>\n",
       "                        <td id=\"T_bc2542de_5089_11ea_aa8d_80e6501c9e3erow5_col2\" class=\"data row5 col2\" >0.7</td>\n",
       "                        <td id=\"T_bc2542de_5089_11ea_aa8d_80e6501c9e3erow5_col3\" class=\"data row5 col3\" >0.42</td>\n",
       "                        <td id=\"T_bc2542de_5089_11ea_aa8d_80e6501c9e3erow5_col4\" class=\"data row5 col4\" >0.48</td>\n",
       "                        <td id=\"T_bc2542de_5089_11ea_aa8d_80e6501c9e3erow5_col5\" class=\"data row5 col5\" >1</td>\n",
       "                        <td id=\"T_bc2542de_5089_11ea_aa8d_80e6501c9e3erow5_col6\" class=\"data row5 col6\" >0.41</td>\n",
       "                        <td id=\"T_bc2542de_5089_11ea_aa8d_80e6501c9e3erow5_col7\" class=\"data row5 col7\" >0.5</td>\n",
       "                        <td id=\"T_bc2542de_5089_11ea_aa8d_80e6501c9e3erow5_col8\" class=\"data row5 col8\" >0.39</td>\n",
       "                        <td id=\"T_bc2542de_5089_11ea_aa8d_80e6501c9e3erow5_col9\" class=\"data row5 col9\" >0.42</td>\n",
       "            </tr>\n",
       "            <tr>\n",
       "                        <th id=\"T_bc2542de_5089_11ea_aa8d_80e6501c9e3elevel0_row6\" class=\"row_heading level0 row6\" >Corruption</th>\n",
       "                        <td id=\"T_bc2542de_5089_11ea_aa8d_80e6501c9e3erow6_col0\" class=\"data row6 col0\" >0.22</td>\n",
       "                        <td id=\"T_bc2542de_5089_11ea_aa8d_80e6501c9e3erow6_col1\" class=\"data row6 col1\" >0.25</td>\n",
       "                        <td id=\"T_bc2542de_5089_11ea_aa8d_80e6501c9e3erow6_col2\" class=\"data row6 col2\" >0.23</td>\n",
       "                        <td id=\"T_bc2542de_5089_11ea_aa8d_80e6501c9e3erow6_col3\" class=\"data row6 col3\" >0.17</td>\n",
       "                        <td id=\"T_bc2542de_5089_11ea_aa8d_80e6501c9e3erow6_col4\" class=\"data row6 col4\" >0.15</td>\n",
       "                        <td id=\"T_bc2542de_5089_11ea_aa8d_80e6501c9e3erow6_col5\" class=\"data row6 col5\" >0.41</td>\n",
       "                        <td id=\"T_bc2542de_5089_11ea_aa8d_80e6501c9e3erow6_col6\" class=\"data row6 col6\" >1</td>\n",
       "                        <td id=\"T_bc2542de_5089_11ea_aa8d_80e6501c9e3erow6_col7\" class=\"data row6 col7\" >0.28</td>\n",
       "                        <td id=\"T_bc2542de_5089_11ea_aa8d_80e6501c9e3erow6_col8\" class=\"data row6 col8\" >0.19</td>\n",
       "                        <td id=\"T_bc2542de_5089_11ea_aa8d_80e6501c9e3erow6_col9\" class=\"data row6 col9\" >0.15</td>\n",
       "            </tr>\n",
       "            <tr>\n",
       "                        <th id=\"T_bc2542de_5089_11ea_aa8d_80e6501c9e3elevel0_row7\" class=\"row_heading level0 row7\" >Generosity</th>\n",
       "                        <td id=\"T_bc2542de_5089_11ea_aa8d_80e6501c9e3erow7_col0\" class=\"data row7 col0\" >0.49</td>\n",
       "                        <td id=\"T_bc2542de_5089_11ea_aa8d_80e6501c9e3erow7_col1\" class=\"data row7 col1\" >0.39</td>\n",
       "                        <td id=\"T_bc2542de_5089_11ea_aa8d_80e6501c9e3erow7_col2\" class=\"data row7 col2\" >0.42</td>\n",
       "                        <td id=\"T_bc2542de_5089_11ea_aa8d_80e6501c9e3erow7_col3\" class=\"data row7 col3\" >0.35</td>\n",
       "                        <td id=\"T_bc2542de_5089_11ea_aa8d_80e6501c9e3erow7_col4\" class=\"data row7 col4\" >0.45</td>\n",
       "                        <td id=\"T_bc2542de_5089_11ea_aa8d_80e6501c9e3erow7_col5\" class=\"data row7 col5\" >0.5</td>\n",
       "                        <td id=\"T_bc2542de_5089_11ea_aa8d_80e6501c9e3erow7_col6\" class=\"data row7 col6\" >0.28</td>\n",
       "                        <td id=\"T_bc2542de_5089_11ea_aa8d_80e6501c9e3erow7_col7\" class=\"data row7 col7\" >1</td>\n",
       "                        <td id=\"T_bc2542de_5089_11ea_aa8d_80e6501c9e3erow7_col8\" class=\"data row7 col8\" >0.46</td>\n",
       "                        <td id=\"T_bc2542de_5089_11ea_aa8d_80e6501c9e3erow7_col9\" class=\"data row7 col9\" >0.45</td>\n",
       "            </tr>\n",
       "            <tr>\n",
       "                        <th id=\"T_bc2542de_5089_11ea_aa8d_80e6501c9e3elevel0_row8\" class=\"row_heading level0 row8\" >Log of GDP\n",
       "per capita</th>\n",
       "                        <td id=\"T_bc2542de_5089_11ea_aa8d_80e6501c9e3erow8_col0\" class=\"data row8 col0\" >0.82</td>\n",
       "                        <td id=\"T_bc2542de_5089_11ea_aa8d_80e6501c9e3erow8_col1\" class=\"data row8 col1\" >0.66</td>\n",
       "                        <td id=\"T_bc2542de_5089_11ea_aa8d_80e6501c9e3erow8_col2\" class=\"data row8 col2\" >0.31</td>\n",
       "                        <td id=\"T_bc2542de_5089_11ea_aa8d_80e6501c9e3erow8_col3\" class=\"data row8 col3\" >0.57</td>\n",
       "                        <td id=\"T_bc2542de_5089_11ea_aa8d_80e6501c9e3erow8_col4\" class=\"data row8 col4\" >0.8</td>\n",
       "                        <td id=\"T_bc2542de_5089_11ea_aa8d_80e6501c9e3erow8_col5\" class=\"data row8 col5\" >0.39</td>\n",
       "                        <td id=\"T_bc2542de_5089_11ea_aa8d_80e6501c9e3erow8_col6\" class=\"data row8 col6\" >0.19</td>\n",
       "                        <td id=\"T_bc2542de_5089_11ea_aa8d_80e6501c9e3erow8_col7\" class=\"data row8 col7\" >0.46</td>\n",
       "                        <td id=\"T_bc2542de_5089_11ea_aa8d_80e6501c9e3erow8_col8\" class=\"data row8 col8\" >1</td>\n",
       "                        <td id=\"T_bc2542de_5089_11ea_aa8d_80e6501c9e3erow8_col9\" class=\"data row8 col9\" >0.87</td>\n",
       "            </tr>\n",
       "            <tr>\n",
       "                        <th id=\"T_bc2542de_5089_11ea_aa8d_80e6501c9e3elevel0_row9\" class=\"row_heading level0 row9\" >Healthy life\n",
       "expectancy</th>\n",
       "                        <td id=\"T_bc2542de_5089_11ea_aa8d_80e6501c9e3erow9_col0\" class=\"data row9 col0\" >0.83</td>\n",
       "                        <td id=\"T_bc2542de_5089_11ea_aa8d_80e6501c9e3erow9_col1\" class=\"data row9 col1\" >0.64</td>\n",
       "                        <td id=\"T_bc2542de_5089_11ea_aa8d_80e6501c9e3erow9_col2\" class=\"data row9 col2\" >0.34</td>\n",
       "                        <td id=\"T_bc2542de_5089_11ea_aa8d_80e6501c9e3erow9_col3\" class=\"data row9 col3\" >0.51</td>\n",
       "                        <td id=\"T_bc2542de_5089_11ea_aa8d_80e6501c9e3erow9_col4\" class=\"data row9 col4\" >0.76</td>\n",
       "                        <td id=\"T_bc2542de_5089_11ea_aa8d_80e6501c9e3erow9_col5\" class=\"data row9 col5\" >0.42</td>\n",
       "                        <td id=\"T_bc2542de_5089_11ea_aa8d_80e6501c9e3erow9_col6\" class=\"data row9 col6\" >0.15</td>\n",
       "                        <td id=\"T_bc2542de_5089_11ea_aa8d_80e6501c9e3erow9_col7\" class=\"data row9 col7\" >0.45</td>\n",
       "                        <td id=\"T_bc2542de_5089_11ea_aa8d_80e6501c9e3erow9_col8\" class=\"data row9 col8\" >0.87</td>\n",
       "                        <td id=\"T_bc2542de_5089_11ea_aa8d_80e6501c9e3erow9_col9\" class=\"data row9 col9\" >1</td>\n",
       "            </tr>\n",
       "    </tbody></table>"
      ],
      "text/plain": [
       "<pandas.io.formats.style.Styler at 0x1a281f9f10>"
      ]
     },
     "execution_count": 184,
     "metadata": {},
     "output_type": "execute_result"
    }
   ],
   "source": [
    "df_nn.corr().style.background_gradient(cmap='BuGn').set_precision(2)\n",
    "#высокий уровень корреляции у Log of GDP per capita и Healthy life expectancy (0.87)\n",
    "#чуть ниже, но все равно выше 0.8 корреляцию у Ladder и Healthy life expectancy (0.83),  Social support (0.83)\n",
    "#и Log of GDP per capita (0.82). Ну и более или менее высокая корр. у Social support и Log of GDP per capita и\n",
    "#Healthy life expectancy"
   ]
  },
  {
   "cell_type": "markdown",
   "metadata": {
    "colab_type": "text",
    "id": "bwPmjFqesXOC"
   },
   "source": [
    "# Дискретное распределение случайной величины"
   ]
  },
  {
   "cell_type": "markdown",
   "metadata": {
    "colab_type": "text",
    "id": "5xwVwFr_s11_"
   },
   "source": [
    "Напишите код для моделирования 10 подбрасываний игрального кубика. Начертите диаграму histogram. Какое это распределение?"
   ]
  },
  {
   "cell_type": "code",
   "execution_count": 208,
   "metadata": {
    "colab": {},
    "colab_type": "code",
    "id": "3EEu6ofKs0x7"
   },
   "outputs": [],
   "source": [
    "import random\n",
    "def dice(num):\n",
    "    res_list = []\n",
    "    result = {}\n",
    "    for i in range(int(num)):\n",
    "        n = random.choice([1, 2, 3, 4, 5, 6])\n",
    "        res_list.append(n)\n",
    "        if n in result.keys():\n",
    "            result[n] += 1\n",
    "        else:\n",
    "            result[n] = 1\n",
    "    return res_list "
   ]
  },
  {
   "cell_type": "code",
   "execution_count": 214,
   "metadata": {},
   "outputs": [
    {
     "data": {
      "text/plain": [
       "<function matplotlib.pyplot.show(*args, **kw)>"
      ]
     },
     "execution_count": 214,
     "metadata": {},
     "output_type": "execute_result"
    },
    {
     "data": {
      "image/png": "[encoded data removed]",
      "text/plain": [
       "<Figure size 432x288 with 1 Axes>"
      ]
     },
     "metadata": {
      "needs_background": "light"
     },
     "output_type": "display_data"
    }
   ],
   "source": [
    "plt.hist(dice(10), 10)\n",
    "plt.show\n",
    "# Распределение Бернулли"
   ]
  },
  {
   "cell_type": "markdown",
   "metadata": {
    "colab_type": "text",
    "id": "irGnJ9bxtAor"
   },
   "source": [
    "моделируйте 1000 раз сумму по 100 подбрасываний. Начертите диаграму histogram. Почему график изменился? Почему можно применить центральную предельную теорему?"
   ]
  },
  {
   "cell_type": "code",
   "execution_count": 217,
   "metadata": {},
   "outputs": [],
   "source": [
    "tries_list = []\n",
    "for i in range(1000):\n",
    "    tries_list.append(sum(dice(100)))"
   ]
  },
  {
   "cell_type": "code",
   "execution_count": 218,
   "metadata": {
    "colab": {},
    "colab_type": "code",
    "id": "v0It8sBStGcI"
   },
   "outputs": [
    {
     "data": {
      "text/plain": [
       "<function matplotlib.pyplot.show(*args, **kw)>"
      ]
     },
     "execution_count": 218,
     "metadata": {},
     "output_type": "execute_result"
    },
    {
     "data": {
      "image/png": "[encoded data removed]",
      "text/plain": [
       "<Figure size 432x288 with 1 Axes>"
      ]
     },
     "metadata": {
      "needs_background": "light"
     },
     "output_type": "display_data"
    }
   ],
   "source": [
    "plt.hist(tries_list, 100)\n",
    "plt.show\n",
    "# нормальное распределение. Можно применить центральную предельную теорему, так как кол-во испытаний велико.\n",
    "# соответственно, в действии закон больших чисел."
   ]
  },
  {
   "cell_type": "code",
   "execution_count": null,
   "metadata": {},
   "outputs": [],
   "source": []
  }
 ],
 "metadata": {
  "colab": {
   "include_colab_link": true,
   "name": "dz_2.ipynb",
   "provenance": []
  },
  "kernelspec": {
   "display_name": "Python 3",
   "language": "python",
   "name": "python3"
  },
  "language_info": {
   "codemirror_mode": {
    "name": "ipython",
    "version": 3
   },
   "file_extension": ".py",
   "mimetype": "text/x-python",
   "name": "python",
   "nbconvert_exporter": "python",
   "pygments_lexer": "ipython3",
   "version": "3.7.4"
  }
 },
 "nbformat": 4,
 "nbformat_minor": 1
}
